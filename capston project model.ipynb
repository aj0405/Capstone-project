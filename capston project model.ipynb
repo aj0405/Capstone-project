{
 "cells": [
  {
   "cell_type": "code",
   "execution_count": 1,
   "metadata": {},
   "outputs": [],
   "source": [
    "import os"
   ]
  },
  {
   "cell_type": "code",
   "execution_count": 2,
   "metadata": {},
   "outputs": [
    {
     "data": {
      "text/plain": [
       "'F:\\\\Learning datascience\\\\Python Project'"
      ]
     },
     "execution_count": 2,
     "metadata": {},
     "output_type": "execute_result"
    }
   ],
   "source": [
    "os.getcwd()"
   ]
  },
  {
   "cell_type": "code",
   "execution_count": 3,
   "metadata": {},
   "outputs": [],
   "source": [
    "os.chdir('F:\\Capstone Project\\Prem sir')"
   ]
  },
  {
   "cell_type": "code",
   "execution_count": 4,
   "metadata": {},
   "outputs": [],
   "source": [
    "import pandas as pd"
   ]
  },
  {
   "cell_type": "code",
   "execution_count": 5,
   "metadata": {},
   "outputs": [],
   "source": [
    "fan_train=pd.read_csv('acq_data_3status.csv',sep=',',header=0,encoding='latin')"
   ]
  },
  {
   "cell_type": "code",
   "execution_count": 6,
   "metadata": {},
   "outputs": [
    {
     "name": "stdout",
     "output_type": "stream",
     "text": [
      "<class 'pandas.core.frame.DataFrame'>\n",
      "RangeIndex: 436347 entries, 0 to 436346\n",
      "Data columns (total 28 columns):\n",
      "Unnamed: 0                                 436347 non-null int64\n",
      "LOAN IDENTIFIER                            436347 non-null int64\n",
      "ORIGINATION CHANNEL                        436347 non-null object\n",
      "SELLER NAME                                436347 non-null object\n",
      "ORIGINAL INTEREST RATE                     436347 non-null float64\n",
      "ORIGINAL UPB                               436347 non-null int64\n",
      "ORIGINAL LOAN TERM                         436347 non-null int64\n",
      "ORIGINATION DATE                           436347 non-null object\n",
      "FIRST PAYMENT DATE                         436347 non-null object\n",
      "ORIGINAL LOAN-TO-VALUE (LTV)               436347 non-null int64\n",
      "ORIGINAL COMBINED LOAN-TO-VALUE (CLTV)     436347 non-null int64\n",
      "NUMBER OF BORROWERS                        436347 non-null int64\n",
      "ORIGINAL DEBT TO INCOME RATIO              436244 non-null float64\n",
      "BORROWER CREDIT SCORE AT ORIGINATION       436192 non-null float64\n",
      "FIRST TIME HOME BUYER INDICATOR            436347 non-null object\n",
      "LOAN PURPOSE                               436347 non-null object\n",
      "PROPERTY TYPE                              436347 non-null object\n",
      "NUMBER OF UNITS                            436347 non-null int64\n",
      "OCCUPANCY TYPE                             436347 non-null object\n",
      "PROPERTY STATE                             436347 non-null object\n",
      "ZIP CODE SHORT                             436347 non-null int64\n",
      "PRIMARY MORTGAGE INSURANCE PERCENT         114996 non-null float64\n",
      "PRODUCT TYPE                               436347 non-null object\n",
      "CO-BORROWER CREDIT SCORE AT ORIGINATION    219988 non-null float64\n",
      "MORTGAGE INSURANCE TYPE                    114996 non-null float64\n",
      "RELOCATION MORTGAGE INDICATOR              436347 non-null object\n",
      "Default_status                             142409 non-null float64\n",
      "Default_status1                            436347 non-null int64\n",
      "dtypes: float64(7), int64(10), object(11)\n",
      "memory usage: 93.2+ MB\n"
     ]
    }
   ],
   "source": [
    "fan_train.info()"
   ]
  },
  {
   "cell_type": "code",
   "execution_count": 7,
   "metadata": {},
   "outputs": [],
   "source": [
    "fan_train.rename(columns={'Default_status1':'Default Status'},inplace=True)\n",
    "fan_train.rename(columns={'ORIGINAL INTEREST RATE':'INTEREST RATE'},inplace=True)\n",
    "fan_train.rename(columns={'ORIGINAL UPB':'UPB'},inplace=True)\n",
    "fan_train.rename(columns={'ORIGINAL LOAN TERM':'LOAN TERM'},inplace=True)\n",
    "fan_train.rename(columns={'ORIGINAL LOAN-TO-VALUE (LTV)':'LOAN-TO-VALUE(LTV)'},inplace=True)\n",
    "fan_train.rename(columns={'ORIGINAL COMBINED LOAN-TO-VALUE (CLTV)':'COMBINED LOAN-TO-VALUE (CLTV)'},inplace=True)\n",
    "fan_train.rename(columns={'ORIGINAL DEBT TO INCOME RATIO':'DEBT TO INCOME RATIO'},inplace=True)"
   ]
  },
  {
   "cell_type": "code",
   "execution_count": 8,
   "metadata": {},
   "outputs": [
    {
     "name": "stdout",
     "output_type": "stream",
     "text": [
      "<class 'pandas.core.frame.DataFrame'>\n",
      "RangeIndex: 436347 entries, 0 to 436346\n",
      "Data columns (total 28 columns):\n",
      "Unnamed: 0                                 436347 non-null int64\n",
      "LOAN IDENTIFIER                            436347 non-null int64\n",
      "ORIGINATION CHANNEL                        436347 non-null object\n",
      "SELLER NAME                                436347 non-null object\n",
      "INTEREST RATE                              436347 non-null float64\n",
      "UPB                                        436347 non-null int64\n",
      "LOAN TERM                                  436347 non-null int64\n",
      "ORIGINATION DATE                           436347 non-null object\n",
      "FIRST PAYMENT DATE                         436347 non-null object\n",
      "LOAN-TO-VALUE(LTV)                         436347 non-null int64\n",
      "COMBINED LOAN-TO-VALUE (CLTV)              436347 non-null int64\n",
      "NUMBER OF BORROWERS                        436347 non-null int64\n",
      "DEBT TO INCOME RATIO                       436244 non-null float64\n",
      "BORROWER CREDIT SCORE AT ORIGINATION       436192 non-null float64\n",
      "FIRST TIME HOME BUYER INDICATOR            436347 non-null object\n",
      "LOAN PURPOSE                               436347 non-null object\n",
      "PROPERTY TYPE                              436347 non-null object\n",
      "NUMBER OF UNITS                            436347 non-null int64\n",
      "OCCUPANCY TYPE                             436347 non-null object\n",
      "PROPERTY STATE                             436347 non-null object\n",
      "ZIP CODE SHORT                             436347 non-null int64\n",
      "PRIMARY MORTGAGE INSURANCE PERCENT         114996 non-null float64\n",
      "PRODUCT TYPE                               436347 non-null object\n",
      "CO-BORROWER CREDIT SCORE AT ORIGINATION    219988 non-null float64\n",
      "MORTGAGE INSURANCE TYPE                    114996 non-null float64\n",
      "RELOCATION MORTGAGE INDICATOR              436347 non-null object\n",
      "Default_status                             142409 non-null float64\n",
      "Default Status                             436347 non-null int64\n",
      "dtypes: float64(7), int64(10), object(11)\n",
      "memory usage: 93.2+ MB\n"
     ]
    }
   ],
   "source": [
    "fan_train.info()"
   ]
  },
  {
   "cell_type": "markdown",
   "metadata": {},
   "source": [
    "Categorial Variable analysis "
   ]
  },
  {
   "cell_type": "code",
   "execution_count": 9,
   "metadata": {},
   "outputs": [
    {
     "data": {
      "text/plain": [
       "Index(['ORIGINATION CHANNEL', 'SELLER NAME', 'ORIGINATION DATE',\n",
       "       'FIRST PAYMENT DATE', 'FIRST TIME HOME BUYER INDICATOR', 'LOAN PURPOSE',\n",
       "       'PROPERTY TYPE', 'OCCUPANCY TYPE', 'PROPERTY STATE', 'PRODUCT TYPE',\n",
       "       'RELOCATION MORTGAGE INDICATOR'],\n",
       "      dtype='object')"
      ]
     },
     "execution_count": 9,
     "metadata": {},
     "output_type": "execute_result"
    }
   ],
   "source": [
    "cate_v=fan_train.dtypes.loc[fan_train.dtypes=='object'].index\n",
    "cate_v"
   ]
  },
  {
   "cell_type": "code",
   "execution_count": 10,
   "metadata": {},
   "outputs": [
    {
     "data": {
      "text/plain": [
       "ORIGINATION CHANNEL                 3\n",
       "SELLER NAME                        16\n",
       "ORIGINATION DATE                   27\n",
       "FIRST PAYMENT DATE                 27\n",
       "FIRST TIME HOME BUYER INDICATOR     2\n",
       "LOAN PURPOSE                        3\n",
       "PROPERTY TYPE                       5\n",
       "OCCUPANCY TYPE                      3\n",
       "PROPERTY STATE                     54\n",
       "PRODUCT TYPE                        1\n",
       "RELOCATION MORTGAGE INDICATOR       2\n",
       "dtype: int64"
      ]
     },
     "execution_count": 10,
     "metadata": {},
     "output_type": "execute_result"
    }
   ],
   "source": [
    "fan_train[cate_v].apply(lambda x: len(x.unique()))"
   ]
  },
  {
   "cell_type": "markdown",
   "metadata": {},
   "source": [
    "AS product type has only one unique value ,so dropping the column doesn't have any impact on analysis\n",
    "so dropping product type column"
   ]
  },
  {
   "cell_type": "code",
   "execution_count": 11,
   "metadata": {},
   "outputs": [],
   "source": [
    "fan_train.drop([\"PRODUCT TYPE\"],axis=1,inplace=True)"
   ]
  },
  {
   "cell_type": "code",
   "execution_count": 12,
   "metadata": {},
   "outputs": [
    {
     "data": {
      "text/html": [
       "<div>\n",
       "<style scoped>\n",
       "    .dataframe tbody tr th:only-of-type {\n",
       "        vertical-align: middle;\n",
       "    }\n",
       "\n",
       "    .dataframe tbody tr th {\n",
       "        vertical-align: top;\n",
       "    }\n",
       "\n",
       "    .dataframe thead th {\n",
       "        text-align: right;\n",
       "    }\n",
       "</style>\n",
       "<table border=\"1\" class=\"dataframe\">\n",
       "  <thead>\n",
       "    <tr style=\"text-align: right;\">\n",
       "      <th></th>\n",
       "      <th>Unnamed: 0</th>\n",
       "      <th>LOAN IDENTIFIER</th>\n",
       "      <th>ORIGINATION CHANNEL</th>\n",
       "      <th>SELLER NAME</th>\n",
       "      <th>INTEREST RATE</th>\n",
       "      <th>UPB</th>\n",
       "      <th>LOAN TERM</th>\n",
       "      <th>ORIGINATION DATE</th>\n",
       "      <th>FIRST PAYMENT DATE</th>\n",
       "      <th>LOAN-TO-VALUE(LTV)</th>\n",
       "      <th>...</th>\n",
       "      <th>NUMBER OF UNITS</th>\n",
       "      <th>OCCUPANCY TYPE</th>\n",
       "      <th>PROPERTY STATE</th>\n",
       "      <th>ZIP CODE SHORT</th>\n",
       "      <th>PRIMARY MORTGAGE INSURANCE PERCENT</th>\n",
       "      <th>CO-BORROWER CREDIT SCORE AT ORIGINATION</th>\n",
       "      <th>MORTGAGE INSURANCE TYPE</th>\n",
       "      <th>RELOCATION MORTGAGE INDICATOR</th>\n",
       "      <th>Default_status</th>\n",
       "      <th>Default Status</th>\n",
       "    </tr>\n",
       "  </thead>\n",
       "  <tbody>\n",
       "    <tr>\n",
       "      <th>0</th>\n",
       "      <td>0</td>\n",
       "      <td>100002091588</td>\n",
       "      <td>R</td>\n",
       "      <td>OTHER</td>\n",
       "      <td>4.125</td>\n",
       "      <td>345000</td>\n",
       "      <td>360</td>\n",
       "      <td>12/2014</td>\n",
       "      <td>02/2015</td>\n",
       "      <td>95</td>\n",
       "      <td>...</td>\n",
       "      <td>1</td>\n",
       "      <td>P</td>\n",
       "      <td>NC</td>\n",
       "      <td>282</td>\n",
       "      <td>30.0</td>\n",
       "      <td>NaN</td>\n",
       "      <td>1.0</td>\n",
       "      <td>N</td>\n",
       "      <td>NaN</td>\n",
       "      <td>0</td>\n",
       "    </tr>\n",
       "    <tr>\n",
       "      <th>1</th>\n",
       "      <td>1</td>\n",
       "      <td>100004219574</td>\n",
       "      <td>R</td>\n",
       "      <td>WELLS FARGO BANK, N.A.</td>\n",
       "      <td>4.125</td>\n",
       "      <td>293000</td>\n",
       "      <td>312</td>\n",
       "      <td>12/2014</td>\n",
       "      <td>02/2015</td>\n",
       "      <td>77</td>\n",
       "      <td>...</td>\n",
       "      <td>1</td>\n",
       "      <td>P</td>\n",
       "      <td>IL</td>\n",
       "      <td>605</td>\n",
       "      <td>NaN</td>\n",
       "      <td>723.0</td>\n",
       "      <td>NaN</td>\n",
       "      <td>N</td>\n",
       "      <td>NaN</td>\n",
       "      <td>0</td>\n",
       "    </tr>\n",
       "    <tr>\n",
       "      <th>2</th>\n",
       "      <td>2</td>\n",
       "      <td>100004457300</td>\n",
       "      <td>C</td>\n",
       "      <td>WELLS FARGO BANK, N.A.</td>\n",
       "      <td>3.875</td>\n",
       "      <td>304000</td>\n",
       "      <td>360</td>\n",
       "      <td>11/2014</td>\n",
       "      <td>01/2015</td>\n",
       "      <td>80</td>\n",
       "      <td>...</td>\n",
       "      <td>1</td>\n",
       "      <td>P</td>\n",
       "      <td>GA</td>\n",
       "      <td>300</td>\n",
       "      <td>NaN</td>\n",
       "      <td>NaN</td>\n",
       "      <td>NaN</td>\n",
       "      <td>N</td>\n",
       "      <td>NaN</td>\n",
       "      <td>0</td>\n",
       "    </tr>\n",
       "    <tr>\n",
       "      <th>3</th>\n",
       "      <td>3</td>\n",
       "      <td>100006803390</td>\n",
       "      <td>R</td>\n",
       "      <td>OTHER</td>\n",
       "      <td>4.375</td>\n",
       "      <td>110000</td>\n",
       "      <td>360</td>\n",
       "      <td>10/2014</td>\n",
       "      <td>12/2014</td>\n",
       "      <td>65</td>\n",
       "      <td>...</td>\n",
       "      <td>1</td>\n",
       "      <td>P</td>\n",
       "      <td>VA</td>\n",
       "      <td>229</td>\n",
       "      <td>NaN</td>\n",
       "      <td>736.0</td>\n",
       "      <td>NaN</td>\n",
       "      <td>N</td>\n",
       "      <td>100.0</td>\n",
       "      <td>100</td>\n",
       "    </tr>\n",
       "    <tr>\n",
       "      <th>4</th>\n",
       "      <td>4</td>\n",
       "      <td>100008763886</td>\n",
       "      <td>R</td>\n",
       "      <td>QUICKEN LOANS INC.</td>\n",
       "      <td>4.375</td>\n",
       "      <td>325000</td>\n",
       "      <td>348</td>\n",
       "      <td>01/2015</td>\n",
       "      <td>03/2015</td>\n",
       "      <td>72</td>\n",
       "      <td>...</td>\n",
       "      <td>1</td>\n",
       "      <td>P</td>\n",
       "      <td>CA</td>\n",
       "      <td>936</td>\n",
       "      <td>NaN</td>\n",
       "      <td>797.0</td>\n",
       "      <td>NaN</td>\n",
       "      <td>N</td>\n",
       "      <td>100.0</td>\n",
       "      <td>100</td>\n",
       "    </tr>\n",
       "  </tbody>\n",
       "</table>\n",
       "<p>5 rows × 27 columns</p>\n",
       "</div>"
      ],
      "text/plain": [
       "   Unnamed: 0  LOAN IDENTIFIER ORIGINATION CHANNEL             SELLER NAME  \\\n",
       "0           0     100002091588                   R                   OTHER   \n",
       "1           1     100004219574                   R  WELLS FARGO BANK, N.A.   \n",
       "2           2     100004457300                   C  WELLS FARGO BANK, N.A.   \n",
       "3           3     100006803390                   R                   OTHER   \n",
       "4           4     100008763886                   R      QUICKEN LOANS INC.   \n",
       "\n",
       "   INTEREST RATE     UPB  LOAN TERM ORIGINATION DATE FIRST PAYMENT DATE  \\\n",
       "0          4.125  345000        360          12/2014            02/2015   \n",
       "1          4.125  293000        312          12/2014            02/2015   \n",
       "2          3.875  304000        360          11/2014            01/2015   \n",
       "3          4.375  110000        360          10/2014            12/2014   \n",
       "4          4.375  325000        348          01/2015            03/2015   \n",
       "\n",
       "   LOAN-TO-VALUE(LTV)      ...        NUMBER OF UNITS  OCCUPANCY TYPE  \\\n",
       "0                  95      ...                      1               P   \n",
       "1                  77      ...                      1               P   \n",
       "2                  80      ...                      1               P   \n",
       "3                  65      ...                      1               P   \n",
       "4                  72      ...                      1               P   \n",
       "\n",
       "   PROPERTY STATE  ZIP CODE SHORT PRIMARY MORTGAGE INSURANCE PERCENT  \\\n",
       "0              NC             282                               30.0   \n",
       "1              IL             605                                NaN   \n",
       "2              GA             300                                NaN   \n",
       "3              VA             229                                NaN   \n",
       "4              CA             936                                NaN   \n",
       "\n",
       "  CO-BORROWER CREDIT SCORE AT ORIGINATION MORTGAGE INSURANCE TYPE  \\\n",
       "0                                     NaN                     1.0   \n",
       "1                                   723.0                     NaN   \n",
       "2                                     NaN                     NaN   \n",
       "3                                   736.0                     NaN   \n",
       "4                                   797.0                     NaN   \n",
       "\n",
       "   RELOCATION MORTGAGE INDICATOR Default_status Default Status  \n",
       "0                              N            NaN              0  \n",
       "1                              N            NaN              0  \n",
       "2                              N            NaN              0  \n",
       "3                              N          100.0            100  \n",
       "4                              N          100.0            100  \n",
       "\n",
       "[5 rows x 27 columns]"
      ]
     },
     "execution_count": 12,
     "metadata": {},
     "output_type": "execute_result"
    }
   ],
   "source": [
    "fan_train.head(5)"
   ]
  },
  {
   "cell_type": "code",
   "execution_count": 13,
   "metadata": {},
   "outputs": [
    {
     "data": {
      "text/plain": [
       "R    0.587746\n",
       "C    0.300722\n",
       "B    0.111533\n",
       "Name: ORIGINATION CHANNEL, dtype: float64"
      ]
     },
     "execution_count": 13,
     "metadata": {},
     "output_type": "execute_result"
    }
   ],
   "source": [
    "fan_train['ORIGINATION CHANNEL'].value_counts()/fan_train.shape[0]"
   ]
  },
  {
   "cell_type": "code",
   "execution_count": 14,
   "metadata": {},
   "outputs": [
    {
     "data": {
      "text/plain": [
       "N    0.837661\n",
       "Y    0.162339\n",
       "Name: FIRST TIME HOME BUYER INDICATOR, dtype: float64"
      ]
     },
     "execution_count": 14,
     "metadata": {},
     "output_type": "execute_result"
    }
   ],
   "source": [
    "fan_train['FIRST TIME HOME BUYER INDICATOR'].value_counts()/fan_train.shape[0]"
   ]
  },
  {
   "cell_type": "code",
   "execution_count": 15,
   "metadata": {},
   "outputs": [
    {
     "data": {
      "text/plain": [
       "OTHER                                                                   0.554836\n",
       "WELLS FARGO BANK, N.A.                                                  0.130786\n",
       "QUICKEN LOANS INC.                                                      0.086929\n",
       "JPMORGAN CHASE BANK, NATIONAL ASSOCIATION                               0.037246\n",
       "FLAGSTAR BANK, FSB                                                      0.026600\n",
       "DITECH FINANCIAL LLC                                                    0.022736\n",
       "FRANKLIN AMERICAN MORTGAGE COMPANY                                      0.018254\n",
       "SUNTRUST MORTGAGE INC.                                                  0.017259\n",
       "STEARNS LENDING, LLC                                                    0.016219\n",
       "FREEDOM MORTGAGE CORP.                                                  0.016090\n",
       "NATIONSTAR MORTGAGE, LLC                                                0.014752\n",
       "CITIMORTGAGE, INC.                                                      0.014695\n",
       "UNITED SHORE FINANCIAL SERVICES, LLC D/B/A UNITED WHOLESALE MORTGAGE    0.011729\n",
       "PENNYMAC CORP.                                                          0.010826\n",
       "LOANDEPOT.COM, LLC                                                      0.010627\n",
       "IMPAC MORTGAGE CORP.                                                    0.010416\n",
       "Name: SELLER NAME, dtype: float64"
      ]
     },
     "execution_count": 15,
     "metadata": {},
     "output_type": "execute_result"
    }
   ],
   "source": [
    "fan_train['SELLER NAME'].value_counts()/fan_train.shape[0]"
   ]
  },
  {
   "cell_type": "code",
   "execution_count": 16,
   "metadata": {},
   "outputs": [
    {
     "data": {
      "text/plain": [
       "P    0.419845\n",
       "R    0.356372\n",
       "C    0.223783\n",
       "Name: LOAN PURPOSE, dtype: float64"
      ]
     },
     "execution_count": 16,
     "metadata": {},
     "output_type": "execute_result"
    }
   ],
   "source": [
    "fan_train['LOAN PURPOSE'].value_counts()/fan_train.shape[0]"
   ]
  },
  {
   "cell_type": "code",
   "execution_count": 17,
   "metadata": {},
   "outputs": [
    {
     "data": {
      "text/plain": [
       "SF    0.627480\n",
       "PU    0.270998\n",
       "CO    0.092202\n",
       "MH    0.005058\n",
       "CP    0.004263\n",
       "Name: PROPERTY TYPE, dtype: float64"
      ]
     },
     "execution_count": 17,
     "metadata": {},
     "output_type": "execute_result"
    }
   ],
   "source": [
    "fan_train['PROPERTY TYPE'].value_counts()/fan_train.shape[0]"
   ]
  },
  {
   "cell_type": "code",
   "execution_count": 18,
   "metadata": {},
   "outputs": [
    {
     "data": {
      "text/plain": [
       "P    0.866118\n",
       "I    0.094150\n",
       "S    0.039732\n",
       "Name: OCCUPANCY TYPE, dtype: float64"
      ]
     },
     "execution_count": 18,
     "metadata": {},
     "output_type": "execute_result"
    }
   ],
   "source": [
    "fan_train['OCCUPANCY TYPE'].value_counts()/fan_train.shape[0]"
   ]
  },
  {
   "cell_type": "code",
   "execution_count": 19,
   "metadata": {
    "scrolled": true
   },
   "outputs": [
    {
     "data": {
      "text/plain": [
       "CA    0.192246\n",
       "TX    0.078543\n",
       "FL    0.052981\n",
       "IL    0.042560\n",
       "CO    0.036982\n",
       "WA    0.031768\n",
       "MI    0.030991\n",
       "AZ    0.029312\n",
       "NY    0.028658\n",
       "PA    0.027125\n",
       "VA    0.026594\n",
       "NC    0.025489\n",
       "GA    0.025335\n",
       "NJ    0.025319\n",
       "MA    0.023610\n",
       "WI    0.023060\n",
       "OH    0.022122\n",
       "MN    0.021838\n",
       "MD    0.019299\n",
       "OR    0.018382\n",
       "UT    0.017090\n",
       "MO    0.016849\n",
       "TN    0.015829\n",
       "IN    0.015387\n",
       "SC    0.013359\n",
       "NV    0.012607\n",
       "IA    0.010322\n",
       "LA    0.010022\n",
       "AL    0.009832\n",
       "OK    0.008791\n",
       "CT    0.007813\n",
       "KY    0.007657\n",
       "ID    0.007196\n",
       "NE    0.006614\n",
       "KS    0.005567\n",
       "NM    0.005189\n",
       "AR    0.004957\n",
       "MS    0.004240\n",
       "HI    0.003903\n",
       "MT    0.003775\n",
       "NH    0.003598\n",
       "DE    0.003406\n",
       "SD    0.003206\n",
       "PR    0.002954\n",
       "DC    0.002801\n",
       "ND    0.002564\n",
       "WY    0.002457\n",
       "RI    0.002404\n",
       "ME    0.002104\n",
       "WV    0.002005\n",
       "AK    0.001799\n",
       "VT    0.001407\n",
       "VI    0.000062\n",
       "GU    0.000023\n",
       "Name: PROPERTY STATE, dtype: float64"
      ]
     },
     "execution_count": 19,
     "metadata": {},
     "output_type": "execute_result"
    }
   ],
   "source": [
    "fan_train['PROPERTY STATE'].value_counts()/fan_train.shape[0]"
   ]
  },
  {
   "cell_type": "code",
   "execution_count": 20,
   "metadata": {},
   "outputs": [
    {
     "data": {
      "text/plain": [
       "N    0.994044\n",
       "Y    0.005956\n",
       "Name: RELOCATION MORTGAGE INDICATOR, dtype: float64"
      ]
     },
     "execution_count": 20,
     "metadata": {},
     "output_type": "execute_result"
    }
   ],
   "source": [
    "fan_train['RELOCATION MORTGAGE INDICATOR'].value_counts()/fan_train.shape[0]"
   ]
  },
  {
   "cell_type": "code",
   "execution_count": 21,
   "metadata": {},
   "outputs": [
    {
     "data": {
      "text/plain": [
       "0      0.673634\n",
       "100    0.318907\n",
       "1      0.007460\n",
       "Name: Default Status, dtype: float64"
      ]
     },
     "execution_count": 21,
     "metadata": {},
     "output_type": "execute_result"
    }
   ],
   "source": [
    "fan_train['Default Status'].value_counts()/fan_train.shape[0]"
   ]
  },
  {
   "cell_type": "markdown",
   "metadata": {},
   "source": [
    " Continuous Variable"
   ]
  },
  {
   "cell_type": "code",
   "execution_count": 22,
   "metadata": {},
   "outputs": [
    {
     "data": {
      "text/html": [
       "<div>\n",
       "<style scoped>\n",
       "    .dataframe tbody tr th:only-of-type {\n",
       "        vertical-align: middle;\n",
       "    }\n",
       "\n",
       "    .dataframe tbody tr th {\n",
       "        vertical-align: top;\n",
       "    }\n",
       "\n",
       "    .dataframe thead th {\n",
       "        text-align: right;\n",
       "    }\n",
       "</style>\n",
       "<table border=\"1\" class=\"dataframe\">\n",
       "  <thead>\n",
       "    <tr style=\"text-align: right;\">\n",
       "      <th></th>\n",
       "      <th>Unnamed: 0</th>\n",
       "      <th>LOAN IDENTIFIER</th>\n",
       "      <th>INTEREST RATE</th>\n",
       "      <th>UPB</th>\n",
       "      <th>LOAN TERM</th>\n",
       "      <th>LOAN-TO-VALUE(LTV)</th>\n",
       "      <th>COMBINED LOAN-TO-VALUE (CLTV)</th>\n",
       "      <th>NUMBER OF BORROWERS</th>\n",
       "      <th>DEBT TO INCOME RATIO</th>\n",
       "      <th>BORROWER CREDIT SCORE AT ORIGINATION</th>\n",
       "      <th>NUMBER OF UNITS</th>\n",
       "      <th>ZIP CODE SHORT</th>\n",
       "      <th>PRIMARY MORTGAGE INSURANCE PERCENT</th>\n",
       "      <th>CO-BORROWER CREDIT SCORE AT ORIGINATION</th>\n",
       "      <th>MORTGAGE INSURANCE TYPE</th>\n",
       "      <th>Default_status</th>\n",
       "      <th>Default Status</th>\n",
       "    </tr>\n",
       "  </thead>\n",
       "  <tbody>\n",
       "    <tr>\n",
       "      <th>count</th>\n",
       "      <td>436347.000000</td>\n",
       "      <td>4.363470e+05</td>\n",
       "      <td>436347.000000</td>\n",
       "      <td>4.363470e+05</td>\n",
       "      <td>436347.000000</td>\n",
       "      <td>436347.000000</td>\n",
       "      <td>436347.000000</td>\n",
       "      <td>436347.000000</td>\n",
       "      <td>436244.000000</td>\n",
       "      <td>436192.000000</td>\n",
       "      <td>436347.000000</td>\n",
       "      <td>436347.000000</td>\n",
       "      <td>114996.000000</td>\n",
       "      <td>219988.000000</td>\n",
       "      <td>114996.000000</td>\n",
       "      <td>142409.000000</td>\n",
       "      <td>436347.000000</td>\n",
       "    </tr>\n",
       "    <tr>\n",
       "      <th>mean</th>\n",
       "      <td>218173.000000</td>\n",
       "      <td>5.506554e+11</td>\n",
       "      <td>3.997689</td>\n",
       "      <td>2.298115e+05</td>\n",
       "      <td>316.810039</td>\n",
       "      <td>74.038570</td>\n",
       "      <td>74.719739</td>\n",
       "      <td>1.509365</td>\n",
       "      <td>33.323450</td>\n",
       "      <td>754.253356</td>\n",
       "      <td>1.035827</td>\n",
       "      <td>590.438974</td>\n",
       "      <td>24.337551</td>\n",
       "      <td>761.534184</td>\n",
       "      <td>1.223286</td>\n",
       "      <td>97.737187</td>\n",
       "      <td>31.898134</td>\n",
       "    </tr>\n",
       "    <tr>\n",
       "      <th>std</th>\n",
       "      <td>125962.673293</td>\n",
       "      <td>2.594856e+11</td>\n",
       "      <td>0.478863</td>\n",
       "      <td>1.188393e+05</td>\n",
       "      <td>76.706949</td>\n",
       "      <td>16.293784</td>\n",
       "      <td>16.310479</td>\n",
       "      <td>0.511084</td>\n",
       "      <td>8.902985</td>\n",
       "      <td>46.228860</td>\n",
       "      <td>0.257164</td>\n",
       "      <td>303.207438</td>\n",
       "      <td>7.391711</td>\n",
       "      <td>43.212877</td>\n",
       "      <td>0.416450</td>\n",
       "      <td>14.795261</td>\n",
       "      <td>46.600310</td>\n",
       "    </tr>\n",
       "    <tr>\n",
       "      <th>min</th>\n",
       "      <td>0.000000</td>\n",
       "      <td>1.000021e+11</td>\n",
       "      <td>2.250000</td>\n",
       "      <td>1.000000e+04</td>\n",
       "      <td>60.000000</td>\n",
       "      <td>3.000000</td>\n",
       "      <td>3.000000</td>\n",
       "      <td>1.000000</td>\n",
       "      <td>1.000000</td>\n",
       "      <td>471.000000</td>\n",
       "      <td>1.000000</td>\n",
       "      <td>0.000000</td>\n",
       "      <td>6.000000</td>\n",
       "      <td>490.000000</td>\n",
       "      <td>1.000000</td>\n",
       "      <td>1.000000</td>\n",
       "      <td>0.000000</td>\n",
       "    </tr>\n",
       "    <tr>\n",
       "      <th>25%</th>\n",
       "      <td>109086.500000</td>\n",
       "      <td>3.257773e+11</td>\n",
       "      <td>3.750000</td>\n",
       "      <td>1.370000e+05</td>\n",
       "      <td>300.000000</td>\n",
       "      <td>66.000000</td>\n",
       "      <td>67.000000</td>\n",
       "      <td>1.000000</td>\n",
       "      <td>27.000000</td>\n",
       "      <td>723.000000</td>\n",
       "      <td>1.000000</td>\n",
       "      <td>322.000000</td>\n",
       "      <td>25.000000</td>\n",
       "      <td>735.000000</td>\n",
       "      <td>1.000000</td>\n",
       "      <td>100.000000</td>\n",
       "      <td>0.000000</td>\n",
       "    </tr>\n",
       "    <tr>\n",
       "      <th>50%</th>\n",
       "      <td>218173.000000</td>\n",
       "      <td>5.514693e+11</td>\n",
       "      <td>4.000000</td>\n",
       "      <td>2.090000e+05</td>\n",
       "      <td>360.000000</td>\n",
       "      <td>78.000000</td>\n",
       "      <td>79.000000</td>\n",
       "      <td>2.000000</td>\n",
       "      <td>34.000000</td>\n",
       "      <td>766.000000</td>\n",
       "      <td>1.000000</td>\n",
       "      <td>612.000000</td>\n",
       "      <td>25.000000</td>\n",
       "      <td>773.000000</td>\n",
       "      <td>1.000000</td>\n",
       "      <td>100.000000</td>\n",
       "      <td>0.000000</td>\n",
       "    </tr>\n",
       "    <tr>\n",
       "      <th>75%</th>\n",
       "      <td>327259.500000</td>\n",
       "      <td>7.753804e+11</td>\n",
       "      <td>4.250000</td>\n",
       "      <td>3.060000e+05</td>\n",
       "      <td>360.000000</td>\n",
       "      <td>84.000000</td>\n",
       "      <td>85.000000</td>\n",
       "      <td>2.000000</td>\n",
       "      <td>41.000000</td>\n",
       "      <td>792.000000</td>\n",
       "      <td>1.000000</td>\n",
       "      <td>895.000000</td>\n",
       "      <td>30.000000</td>\n",
       "      <td>796.000000</td>\n",
       "      <td>1.000000</td>\n",
       "      <td>100.000000</td>\n",
       "      <td>100.000000</td>\n",
       "    </tr>\n",
       "    <tr>\n",
       "      <th>max</th>\n",
       "      <td>436346.000000</td>\n",
       "      <td>9.999957e+11</td>\n",
       "      <td>6.125000</td>\n",
       "      <td>1.203000e+06</td>\n",
       "      <td>360.000000</td>\n",
       "      <td>97.000000</td>\n",
       "      <td>107.000000</td>\n",
       "      <td>6.000000</td>\n",
       "      <td>51.000000</td>\n",
       "      <td>839.000000</td>\n",
       "      <td>4.000000</td>\n",
       "      <td>999.000000</td>\n",
       "      <td>40.000000</td>\n",
       "      <td>837.000000</td>\n",
       "      <td>2.000000</td>\n",
       "      <td>100.000000</td>\n",
       "      <td>100.000000</td>\n",
       "    </tr>\n",
       "  </tbody>\n",
       "</table>\n",
       "</div>"
      ],
      "text/plain": [
       "          Unnamed: 0  LOAN IDENTIFIER  INTEREST RATE           UPB  \\\n",
       "count  436347.000000     4.363470e+05  436347.000000  4.363470e+05   \n",
       "mean   218173.000000     5.506554e+11       3.997689  2.298115e+05   \n",
       "std    125962.673293     2.594856e+11       0.478863  1.188393e+05   \n",
       "min         0.000000     1.000021e+11       2.250000  1.000000e+04   \n",
       "25%    109086.500000     3.257773e+11       3.750000  1.370000e+05   \n",
       "50%    218173.000000     5.514693e+11       4.000000  2.090000e+05   \n",
       "75%    327259.500000     7.753804e+11       4.250000  3.060000e+05   \n",
       "max    436346.000000     9.999957e+11       6.125000  1.203000e+06   \n",
       "\n",
       "           LOAN TERM  LOAN-TO-VALUE(LTV)  COMBINED LOAN-TO-VALUE (CLTV)  \\\n",
       "count  436347.000000       436347.000000                  436347.000000   \n",
       "mean      316.810039           74.038570                      74.719739   \n",
       "std        76.706949           16.293784                      16.310479   \n",
       "min        60.000000            3.000000                       3.000000   \n",
       "25%       300.000000           66.000000                      67.000000   \n",
       "50%       360.000000           78.000000                      79.000000   \n",
       "75%       360.000000           84.000000                      85.000000   \n",
       "max       360.000000           97.000000                     107.000000   \n",
       "\n",
       "       NUMBER OF BORROWERS  DEBT TO INCOME RATIO  \\\n",
       "count        436347.000000         436244.000000   \n",
       "mean              1.509365             33.323450   \n",
       "std               0.511084              8.902985   \n",
       "min               1.000000              1.000000   \n",
       "25%               1.000000             27.000000   \n",
       "50%               2.000000             34.000000   \n",
       "75%               2.000000             41.000000   \n",
       "max               6.000000             51.000000   \n",
       "\n",
       "       BORROWER CREDIT SCORE AT ORIGINATION  NUMBER OF UNITS  ZIP CODE SHORT  \\\n",
       "count                         436192.000000    436347.000000   436347.000000   \n",
       "mean                             754.253356         1.035827      590.438974   \n",
       "std                               46.228860         0.257164      303.207438   \n",
       "min                              471.000000         1.000000        0.000000   \n",
       "25%                              723.000000         1.000000      322.000000   \n",
       "50%                              766.000000         1.000000      612.000000   \n",
       "75%                              792.000000         1.000000      895.000000   \n",
       "max                              839.000000         4.000000      999.000000   \n",
       "\n",
       "       PRIMARY MORTGAGE INSURANCE PERCENT  \\\n",
       "count                       114996.000000   \n",
       "mean                            24.337551   \n",
       "std                              7.391711   \n",
       "min                              6.000000   \n",
       "25%                             25.000000   \n",
       "50%                             25.000000   \n",
       "75%                             30.000000   \n",
       "max                             40.000000   \n",
       "\n",
       "       CO-BORROWER CREDIT SCORE AT ORIGINATION  MORTGAGE INSURANCE TYPE  \\\n",
       "count                            219988.000000            114996.000000   \n",
       "mean                                761.534184                 1.223286   \n",
       "std                                  43.212877                 0.416450   \n",
       "min                                 490.000000                 1.000000   \n",
       "25%                                 735.000000                 1.000000   \n",
       "50%                                 773.000000                 1.000000   \n",
       "75%                                 796.000000                 1.000000   \n",
       "max                                 837.000000                 2.000000   \n",
       "\n",
       "       Default_status  Default Status  \n",
       "count   142409.000000   436347.000000  \n",
       "mean        97.737187       31.898134  \n",
       "std         14.795261       46.600310  \n",
       "min          1.000000        0.000000  \n",
       "25%        100.000000        0.000000  \n",
       "50%        100.000000        0.000000  \n",
       "75%        100.000000      100.000000  \n",
       "max        100.000000      100.000000  "
      ]
     },
     "execution_count": 22,
     "metadata": {},
     "output_type": "execute_result"
    }
   ],
   "source": [
    "fan_train.describe()"
   ]
  },
  {
   "cell_type": "code",
   "execution_count": 23,
   "metadata": {},
   "outputs": [
    {
     "data": {
      "text/plain": [
       "<matplotlib.axes._subplots.AxesSubplot at 0x97f4860>"
      ]
     },
     "execution_count": 23,
     "metadata": {},
     "output_type": "execute_result"
    }
   ],
   "source": [
    "fan_train.plot('LOAN-TO-VALUE(LTV)','LOAN TERM',kind='scatter')"
   ]
  },
  {
   "cell_type": "code",
   "execution_count": 24,
   "metadata": {},
   "outputs": [
    {
     "data": {
      "text/plain": [
       "<matplotlib.axes._subplots.AxesSubplot at 0xa106ac8>"
      ]
     },
     "execution_count": 24,
     "metadata": {},
     "output_type": "execute_result"
    },
    {
     "data": {
      "image/png": "[encoded data removed]",
      "text/plain": [
       "<Figure size 432x288 with 1 Axes>"
      ]
     },
     "metadata": {
      "needs_background": "light"
     },
     "output_type": "display_data"
    }
   ],
   "source": [
    "fan_train.plot('DEBT TO INCOME RATIO','LOAN TERM',kind='scatter')"
   ]
  },
  {
   "cell_type": "code",
   "execution_count": 25,
   "metadata": {},
   "outputs": [
    {
     "data": {
      "text/plain": [
       "<matplotlib.axes._subplots.AxesSubplot at 0xa4bf278>"
      ]
     },
     "execution_count": 25,
     "metadata": {},
     "output_type": "execute_result"
    },
    {
     "data": {
      "image/png": "[encoded data removed]",
      "text/plain": [
       "<Figure size 432x288 with 1 Axes>"
      ]
     },
     "metadata": {
      "needs_background": "light"
     },
     "output_type": "display_data"
    }
   ],
   "source": [
    "fan_train.plot('UPB','LOAN TERM',kind='scatter')"
   ]
  },
  {
   "cell_type": "code",
   "execution_count": 26,
   "metadata": {},
   "outputs": [
    {
     "data": {
      "text/plain": [
       "<matplotlib.axes._subplots.AxesSubplot at 0xa52cf98>"
      ]
     },
     "execution_count": 26,
     "metadata": {},
     "output_type": "execute_result"
    },
    {
     "data": {
      "image/png": "[encoded data removed]",
      "text/plain": [
       "<Figure size 432x288 with 1 Axes>"
      ]
     },
     "metadata": {
      "needs_background": "light"
     },
     "output_type": "display_data"
    }
   ],
   "source": [
    "fan_train.plot('INTEREST RATE','LOAN TERM',kind='scatter')"
   ]
  },
  {
   "cell_type": "code",
   "execution_count": 27,
   "metadata": {},
   "outputs": [
    {
     "data": {
      "text/plain": [
       "<matplotlib.axes._subplots.AxesSubplot at 0xa589400>"
      ]
     },
     "execution_count": 27,
     "metadata": {},
     "output_type": "execute_result"
    },
    {
     "data": {
      "image/png": "[encoded data removed]",
      "text/plain": [
       "<Figure size 432x288 with 1 Axes>"
      ]
     },
     "metadata": {
      "needs_background": "light"
     },
     "output_type": "display_data"
    }
   ],
   "source": [
    "fan_train.plot('UPB','DEBT TO INCOME RATIO',kind='scatter')"
   ]
  },
  {
   "cell_type": "code",
   "execution_count": 28,
   "metadata": {},
   "outputs": [
    {
     "data": {
      "text/html": [
       "<div>\n",
       "<style scoped>\n",
       "    .dataframe tbody tr th:only-of-type {\n",
       "        vertical-align: middle;\n",
       "    }\n",
       "\n",
       "    .dataframe tbody tr th {\n",
       "        vertical-align: top;\n",
       "    }\n",
       "\n",
       "    .dataframe thead th {\n",
       "        text-align: right;\n",
       "    }\n",
       "</style>\n",
       "<table border=\"1\" class=\"dataframe\">\n",
       "  <thead>\n",
       "    <tr style=\"text-align: right;\">\n",
       "      <th>Default Status</th>\n",
       "      <th>0</th>\n",
       "      <th>1</th>\n",
       "      <th>100</th>\n",
       "      <th>All</th>\n",
       "    </tr>\n",
       "    <tr>\n",
       "      <th>PROPERTY TYPE</th>\n",
       "      <th></th>\n",
       "      <th></th>\n",
       "      <th></th>\n",
       "      <th></th>\n",
       "    </tr>\n",
       "  </thead>\n",
       "  <tbody>\n",
       "    <tr>\n",
       "      <th>CO</th>\n",
       "      <td>25603</td>\n",
       "      <td>215</td>\n",
       "      <td>14414</td>\n",
       "      <td>40232</td>\n",
       "    </tr>\n",
       "    <tr>\n",
       "      <th>CP</th>\n",
       "      <td>1466</td>\n",
       "      <td>9</td>\n",
       "      <td>385</td>\n",
       "      <td>1860</td>\n",
       "    </tr>\n",
       "    <tr>\n",
       "      <th>MH</th>\n",
       "      <td>1748</td>\n",
       "      <td>20</td>\n",
       "      <td>439</td>\n",
       "      <td>2207</td>\n",
       "    </tr>\n",
       "    <tr>\n",
       "      <th>PU</th>\n",
       "      <td>76182</td>\n",
       "      <td>952</td>\n",
       "      <td>41115</td>\n",
       "      <td>118249</td>\n",
       "    </tr>\n",
       "    <tr>\n",
       "      <th>SF</th>\n",
       "      <td>188939</td>\n",
       "      <td>2059</td>\n",
       "      <td>82801</td>\n",
       "      <td>273799</td>\n",
       "    </tr>\n",
       "    <tr>\n",
       "      <th>All</th>\n",
       "      <td>293938</td>\n",
       "      <td>3255</td>\n",
       "      <td>139154</td>\n",
       "      <td>436347</td>\n",
       "    </tr>\n",
       "  </tbody>\n",
       "</table>\n",
       "</div>"
      ],
      "text/plain": [
       "Default Status       0     1     100     All\n",
       "PROPERTY TYPE                               \n",
       "CO               25603   215   14414   40232\n",
       "CP                1466     9     385    1860\n",
       "MH                1748    20     439    2207\n",
       "PU               76182   952   41115  118249\n",
       "SF              188939  2059   82801  273799\n",
       "All             293938  3255  139154  436347"
      ]
     },
     "execution_count": 28,
     "metadata": {},
     "output_type": "execute_result"
    }
   ],
   "source": [
    "ct=pd.crosstab(fan_train['PROPERTY TYPE'],fan_train['Default Status'],margins=True)\n",
    "ct"
   ]
  },
  {
   "cell_type": "code",
   "execution_count": 29,
   "metadata": {},
   "outputs": [],
   "source": [
    "import matplotlib.pyplot as plt\n",
    "import seaborn as sn\n",
    "%matplotlib inline"
   ]
  },
  {
   "cell_type": "code",
   "execution_count": 30,
   "metadata": {},
   "outputs": [
    {
     "data": {
      "text/plain": [
       "<matplotlib.axes._subplots.AxesSubplot at 0x13511978>"
      ]
     },
     "execution_count": 30,
     "metadata": {},
     "output_type": "execute_result"
    },
    {
     "data": {
      "image/png": "[encoded data removed]",
      "text/plain": [
       "<Figure size 432x288 with 1 Axes>"
      ]
     },
     "metadata": {
      "needs_background": "light"
     },
     "output_type": "display_data"
    }
   ],
   "source": [
    "ct.iloc[:-1,:-1].plot(kind='bar', stacked=True, color=['red','blue','green'], grid=False)"
   ]
  },
  {
   "cell_type": "code",
   "execution_count": 31,
   "metadata": {},
   "outputs": [
    {
     "data": {
      "text/plain": [
       "<matplotlib.axes._subplots.AxesSubplot at 0x190fa438>"
      ]
     },
     "execution_count": 31,
     "metadata": {},
     "output_type": "execute_result"
    },
    {
     "data": {
      "image/png": "[encoded data removed]",
      "text/plain": [
       "<Figure size 432x288 with 1 Axes>"
      ]
     },
     "metadata": {
      "needs_background": "light"
     },
     "output_type": "display_data"
    }
   ],
   "source": [
    "def percConvert(ser):\n",
    "    return ser/float(ser[-1])\n",
    "ctprop=ct.apply(percConvert,axis=1)\n",
    "ctprop.iloc[:-1,:-1].plot(kind='bar', stacked=True, color=['red','blue','green'], grid=False)"
   ]
  },
  {
   "cell_type": "code",
   "execution_count": 32,
   "metadata": {},
   "outputs": [
    {
     "data": {
      "text/html": [
       "<div>\n",
       "<style scoped>\n",
       "    .dataframe tbody tr th:only-of-type {\n",
       "        vertical-align: middle;\n",
       "    }\n",
       "\n",
       "    .dataframe tbody tr th {\n",
       "        vertical-align: top;\n",
       "    }\n",
       "\n",
       "    .dataframe thead th {\n",
       "        text-align: right;\n",
       "    }\n",
       "</style>\n",
       "<table border=\"1\" class=\"dataframe\">\n",
       "  <thead>\n",
       "    <tr style=\"text-align: right;\">\n",
       "      <th>Default Status</th>\n",
       "      <th>0</th>\n",
       "      <th>1</th>\n",
       "      <th>100</th>\n",
       "      <th>All</th>\n",
       "    </tr>\n",
       "    <tr>\n",
       "      <th>FIRST TIME HOME BUYER INDICATOR</th>\n",
       "      <th></th>\n",
       "      <th></th>\n",
       "      <th></th>\n",
       "      <th></th>\n",
       "    </tr>\n",
       "  </thead>\n",
       "  <tbody>\n",
       "    <tr>\n",
       "      <th>N</th>\n",
       "      <td>242486</td>\n",
       "      <td>2396</td>\n",
       "      <td>120629</td>\n",
       "      <td>365511</td>\n",
       "    </tr>\n",
       "    <tr>\n",
       "      <th>Y</th>\n",
       "      <td>51452</td>\n",
       "      <td>859</td>\n",
       "      <td>18525</td>\n",
       "      <td>70836</td>\n",
       "    </tr>\n",
       "    <tr>\n",
       "      <th>All</th>\n",
       "      <td>293938</td>\n",
       "      <td>3255</td>\n",
       "      <td>139154</td>\n",
       "      <td>436347</td>\n",
       "    </tr>\n",
       "  </tbody>\n",
       "</table>\n",
       "</div>"
      ],
      "text/plain": [
       "Default Status                        0     1     100     All\n",
       "FIRST TIME HOME BUYER INDICATOR                              \n",
       "N                                242486  2396  120629  365511\n",
       "Y                                 51452   859   18525   70836\n",
       "All                              293938  3255  139154  436347"
      ]
     },
     "execution_count": 32,
     "metadata": {},
     "output_type": "execute_result"
    }
   ],
   "source": [
    "ctfthb=pd.crosstab(fan_train['FIRST TIME HOME BUYER INDICATOR'],fan_train['Default Status'],margins=True)\n",
    "ctfthb"
   ]
  },
  {
   "cell_type": "code",
   "execution_count": 33,
   "metadata": {},
   "outputs": [
    {
     "data": {
      "text/plain": [
       "<matplotlib.axes._subplots.AxesSubplot at 0x1918c7f0>"
      ]
     },
     "execution_count": 33,
     "metadata": {},
     "output_type": "execute_result"
    },
    {
     "data": {
      "image/png": "[encoded data removed]",
      "text/plain": [
       "<Figure size 432x288 with 1 Axes>"
      ]
     },
     "metadata": {
      "needs_background": "light"
     },
     "output_type": "display_data"
    }
   ],
   "source": [
    "ctfthbp=ctfthb.apply(percConvert,axis=1)\n",
    "ctfthbp.iloc[:-1,:-1].plot(kind='bar', stacked=True, color=['red','blue','green'], grid=False)"
   ]
  },
  {
   "cell_type": "code",
   "execution_count": 34,
   "metadata": {},
   "outputs": [
    {
     "data": {
      "text/html": [
       "<div>\n",
       "<style scoped>\n",
       "    .dataframe tbody tr th:only-of-type {\n",
       "        vertical-align: middle;\n",
       "    }\n",
       "\n",
       "    .dataframe tbody tr th {\n",
       "        vertical-align: top;\n",
       "    }\n",
       "\n",
       "    .dataframe thead th {\n",
       "        text-align: right;\n",
       "    }\n",
       "</style>\n",
       "<table border=\"1\" class=\"dataframe\">\n",
       "  <thead>\n",
       "    <tr style=\"text-align: right;\">\n",
       "      <th>Default Status</th>\n",
       "      <th>0</th>\n",
       "      <th>1</th>\n",
       "      <th>100</th>\n",
       "      <th>All</th>\n",
       "    </tr>\n",
       "    <tr>\n",
       "      <th>SELLER NAME</th>\n",
       "      <th></th>\n",
       "      <th></th>\n",
       "      <th></th>\n",
       "      <th></th>\n",
       "    </tr>\n",
       "  </thead>\n",
       "  <tbody>\n",
       "    <tr>\n",
       "      <th>CITIMORTGAGE, INC.</th>\n",
       "      <td>4545</td>\n",
       "      <td>27</td>\n",
       "      <td>1840</td>\n",
       "      <td>6412</td>\n",
       "    </tr>\n",
       "    <tr>\n",
       "      <th>DITECH FINANCIAL LLC</th>\n",
       "      <td>6299</td>\n",
       "      <td>86</td>\n",
       "      <td>3536</td>\n",
       "      <td>9921</td>\n",
       "    </tr>\n",
       "    <tr>\n",
       "      <th>FLAGSTAR BANK, FSB</th>\n",
       "      <td>7591</td>\n",
       "      <td>89</td>\n",
       "      <td>3927</td>\n",
       "      <td>11607</td>\n",
       "    </tr>\n",
       "    <tr>\n",
       "      <th>FRANKLIN AMERICAN MORTGAGE COMPANY</th>\n",
       "      <td>5326</td>\n",
       "      <td>77</td>\n",
       "      <td>2562</td>\n",
       "      <td>7965</td>\n",
       "    </tr>\n",
       "    <tr>\n",
       "      <th>FREEDOM MORTGAGE CORP.</th>\n",
       "      <td>3984</td>\n",
       "      <td>38</td>\n",
       "      <td>2999</td>\n",
       "      <td>7021</td>\n",
       "    </tr>\n",
       "    <tr>\n",
       "      <th>IMPAC MORTGAGE CORP.</th>\n",
       "      <td>2251</td>\n",
       "      <td>17</td>\n",
       "      <td>2277</td>\n",
       "      <td>4545</td>\n",
       "    </tr>\n",
       "    <tr>\n",
       "      <th>JPMORGAN CHASE BANK, NATIONAL ASSOCIATION</th>\n",
       "      <td>10173</td>\n",
       "      <td>84</td>\n",
       "      <td>5995</td>\n",
       "      <td>16252</td>\n",
       "    </tr>\n",
       "    <tr>\n",
       "      <th>LOANDEPOT.COM, LLC</th>\n",
       "      <td>2740</td>\n",
       "      <td>40</td>\n",
       "      <td>1857</td>\n",
       "      <td>4637</td>\n",
       "    </tr>\n",
       "    <tr>\n",
       "      <th>NATIONSTAR MORTGAGE, LLC</th>\n",
       "      <td>3887</td>\n",
       "      <td>54</td>\n",
       "      <td>2496</td>\n",
       "      <td>6437</td>\n",
       "    </tr>\n",
       "    <tr>\n",
       "      <th>OTHER</th>\n",
       "      <td>170692</td>\n",
       "      <td>1818</td>\n",
       "      <td>69591</td>\n",
       "      <td>242101</td>\n",
       "    </tr>\n",
       "    <tr>\n",
       "      <th>PENNYMAC CORP.</th>\n",
       "      <td>3093</td>\n",
       "      <td>54</td>\n",
       "      <td>1577</td>\n",
       "      <td>4724</td>\n",
       "    </tr>\n",
       "    <tr>\n",
       "      <th>QUICKEN LOANS INC.</th>\n",
       "      <td>21153</td>\n",
       "      <td>318</td>\n",
       "      <td>16460</td>\n",
       "      <td>37931</td>\n",
       "    </tr>\n",
       "    <tr>\n",
       "      <th>STEARNS LENDING, LLC</th>\n",
       "      <td>4434</td>\n",
       "      <td>61</td>\n",
       "      <td>2582</td>\n",
       "      <td>7077</td>\n",
       "    </tr>\n",
       "    <tr>\n",
       "      <th>SUNTRUST MORTGAGE INC.</th>\n",
       "      <td>5188</td>\n",
       "      <td>43</td>\n",
       "      <td>2300</td>\n",
       "      <td>7531</td>\n",
       "    </tr>\n",
       "    <tr>\n",
       "      <th>UNITED SHORE FINANCIAL SERVICES, LLC D/B/A UNITED WHOLESALE MORTGAGE</th>\n",
       "      <td>3449</td>\n",
       "      <td>29</td>\n",
       "      <td>1640</td>\n",
       "      <td>5118</td>\n",
       "    </tr>\n",
       "    <tr>\n",
       "      <th>WELLS FARGO BANK, N.A.</th>\n",
       "      <td>39133</td>\n",
       "      <td>420</td>\n",
       "      <td>17515</td>\n",
       "      <td>57068</td>\n",
       "    </tr>\n",
       "    <tr>\n",
       "      <th>All</th>\n",
       "      <td>293938</td>\n",
       "      <td>3255</td>\n",
       "      <td>139154</td>\n",
       "      <td>436347</td>\n",
       "    </tr>\n",
       "  </tbody>\n",
       "</table>\n",
       "</div>"
      ],
      "text/plain": [
       "Default Status                                           0     1     100  \\\n",
       "SELLER NAME                                                                \n",
       "CITIMORTGAGE, INC.                                    4545    27    1840   \n",
       "DITECH FINANCIAL LLC                                  6299    86    3536   \n",
       "FLAGSTAR BANK, FSB                                    7591    89    3927   \n",
       "FRANKLIN AMERICAN MORTGAGE COMPANY                    5326    77    2562   \n",
       "FREEDOM MORTGAGE CORP.                                3984    38    2999   \n",
       "IMPAC MORTGAGE CORP.                                  2251    17    2277   \n",
       "JPMORGAN CHASE BANK, NATIONAL ASSOCIATION            10173    84    5995   \n",
       "LOANDEPOT.COM, LLC                                    2740    40    1857   \n",
       "NATIONSTAR MORTGAGE, LLC                              3887    54    2496   \n",
       "OTHER                                               170692  1818   69591   \n",
       "PENNYMAC CORP.                                        3093    54    1577   \n",
       "QUICKEN LOANS INC.                                   21153   318   16460   \n",
       "STEARNS LENDING, LLC                                  4434    61    2582   \n",
       "SUNTRUST MORTGAGE INC.                                5188    43    2300   \n",
       "UNITED SHORE FINANCIAL SERVICES, LLC D/B/A UNIT...    3449    29    1640   \n",
       "WELLS FARGO BANK, N.A.                               39133   420   17515   \n",
       "All                                                 293938  3255  139154   \n",
       "\n",
       "Default Status                                         All  \n",
       "SELLER NAME                                                 \n",
       "CITIMORTGAGE, INC.                                    6412  \n",
       "DITECH FINANCIAL LLC                                  9921  \n",
       "FLAGSTAR BANK, FSB                                   11607  \n",
       "FRANKLIN AMERICAN MORTGAGE COMPANY                    7965  \n",
       "FREEDOM MORTGAGE CORP.                                7021  \n",
       "IMPAC MORTGAGE CORP.                                  4545  \n",
       "JPMORGAN CHASE BANK, NATIONAL ASSOCIATION            16252  \n",
       "LOANDEPOT.COM, LLC                                    4637  \n",
       "NATIONSTAR MORTGAGE, LLC                              6437  \n",
       "OTHER                                               242101  \n",
       "PENNYMAC CORP.                                        4724  \n",
       "QUICKEN LOANS INC.                                   37931  \n",
       "STEARNS LENDING, LLC                                  7077  \n",
       "SUNTRUST MORTGAGE INC.                                7531  \n",
       "UNITED SHORE FINANCIAL SERVICES, LLC D/B/A UNIT...    5118  \n",
       "WELLS FARGO BANK, N.A.                               57068  \n",
       "All                                                 436347  "
      ]
     },
     "execution_count": 34,
     "metadata": {},
     "output_type": "execute_result"
    }
   ],
   "source": [
    "ctseller=pd.crosstab(fan_train['SELLER NAME'],fan_train['Default Status'],margins=True)\n",
    "ctseller"
   ]
  },
  {
   "cell_type": "code",
   "execution_count": 35,
   "metadata": {},
   "outputs": [
    {
     "data": {
      "text/plain": [
       "<matplotlib.axes._subplots.AxesSubplot at 0xa55e4a8>"
      ]
     },
     "execution_count": 35,
     "metadata": {},
     "output_type": "execute_result"
    },
    {
     "data": {
      "image/png": "[encoded data removed]",
      "text/plain": [
       "<Figure size 432x288 with 1 Axes>"
      ]
     },
     "metadata": {
      "needs_background": "light"
     },
     "output_type": "display_data"
    }
   ],
   "source": [
    "ctsellerp=ctseller.apply(percConvert,axis=1)\n",
    "ctsellerp.iloc[:-1,:-1].plot(kind='bar', stacked=True, color=['red','blue','green'], grid=False)"
   ]
  },
  {
   "cell_type": "code",
   "execution_count": 36,
   "metadata": {},
   "outputs": [
    {
     "data": {
      "text/plain": [
       "<matplotlib.axes._subplots.AxesSubplot at 0x1362afd0>"
      ]
     },
     "execution_count": 36,
     "metadata": {},
     "output_type": "execute_result"
    },
    {
     "data": {
      "image/png": "[encoded data removed]",
      "text/plain": [
       "<Figure size 432x288 with 1 Axes>"
      ]
     },
     "metadata": {
      "needs_background": "light"
     },
     "output_type": "display_data"
    }
   ],
   "source": [
    "fan_train.boxplot(column='LOAN TERM',by='Default Status')"
   ]
  },
  {
   "cell_type": "code",
   "execution_count": 37,
   "metadata": {},
   "outputs": [
    {
     "data": {
      "text/plain": [
       "<matplotlib.axes._subplots.AxesSubplot at 0x192eec50>"
      ]
     },
     "execution_count": 37,
     "metadata": {},
     "output_type": "execute_result"
    },
    {
     "data": {
      "image/png": "[encoded data removed]",
      "text/plain": [
       "<Figure size 432x288 with 1 Axes>"
      ]
     },
     "metadata": {
      "needs_background": "light"
     },
     "output_type": "display_data"
    }
   ],
   "source": [
    "fan_train.boxplot(column='LOAN-TO-VALUE(LTV)',by='Default Status')"
   ]
  },
  {
   "cell_type": "code",
   "execution_count": 38,
   "metadata": {},
   "outputs": [
    {
     "data": {
      "text/plain": [
       "<matplotlib.axes._subplots.AxesSubplot at 0x19385ac8>"
      ]
     },
     "execution_count": 38,
     "metadata": {},
     "output_type": "execute_result"
    },
    {
     "data": {
      "image/png": "[encoded data removed]",
      "text/plain": [
       "<Figure size 432x288 with 1 Axes>"
      ]
     },
     "metadata": {
      "needs_background": "light"
     },
     "output_type": "display_data"
    }
   ],
   "source": [
    "fan_train.boxplot(column='COMBINED LOAN-TO-VALUE (CLTV)',by='Default Status')"
   ]
  },
  {
   "cell_type": "code",
   "execution_count": 39,
   "metadata": {},
   "outputs": [
    {
     "data": {
      "text/plain": [
       "<matplotlib.axes._subplots.AxesSubplot at 0x19afa4a8>"
      ]
     },
     "execution_count": 39,
     "metadata": {},
     "output_type": "execute_result"
    },
    {
     "data": {
      "image/png": "[encoded data removed]",
      "text/plain": [
       "<Figure size 432x288 with 1 Axes>"
      ]
     },
     "metadata": {
      "needs_background": "light"
     },
     "output_type": "display_data"
    }
   ],
   "source": [
    "fan_train.boxplot(column='DEBT TO INCOME RATIO',by='Default Status')"
   ]
  },
  {
   "cell_type": "markdown",
   "metadata": {},
   "source": [
    "Missing Value Treatment "
   ]
  },
  {
   "cell_type": "code",
   "execution_count": 40,
   "metadata": {
    "scrolled": true
   },
   "outputs": [
    {
     "data": {
      "text/plain": [
       "Unnamed: 0                                      0\n",
       "LOAN IDENTIFIER                                 0\n",
       "ORIGINATION CHANNEL                             0\n",
       "SELLER NAME                                     0\n",
       "INTEREST RATE                                   0\n",
       "UPB                                             0\n",
       "LOAN TERM                                       0\n",
       "ORIGINATION DATE                                0\n",
       "FIRST PAYMENT DATE                              0\n",
       "LOAN-TO-VALUE(LTV)                              0\n",
       "COMBINED LOAN-TO-VALUE (CLTV)                   0\n",
       "NUMBER OF BORROWERS                             0\n",
       "DEBT TO INCOME RATIO                          103\n",
       "BORROWER CREDIT SCORE AT ORIGINATION          155\n",
       "FIRST TIME HOME BUYER INDICATOR                 0\n",
       "LOAN PURPOSE                                    0\n",
       "PROPERTY TYPE                                   0\n",
       "NUMBER OF UNITS                                 0\n",
       "OCCUPANCY TYPE                                  0\n",
       "PROPERTY STATE                                  0\n",
       "ZIP CODE SHORT                                  0\n",
       "PRIMARY MORTGAGE INSURANCE PERCENT         321351\n",
       "CO-BORROWER CREDIT SCORE AT ORIGINATION    216359\n",
       "MORTGAGE INSURANCE TYPE                    321351\n",
       "RELOCATION MORTGAGE INDICATOR                   0\n",
       "Default_status                             293938\n",
       "Default Status                                  0\n",
       "dtype: int64"
      ]
     },
     "execution_count": 40,
     "metadata": {},
     "output_type": "execute_result"
    }
   ],
   "source": [
    "fan_train.apply(lambda x: sum(x.isnull()))"
   ]
  },
  {
   "cell_type": "code",
   "execution_count": 41,
   "metadata": {},
   "outputs": [],
   "source": [
    "Mean=fan_train['DEBT TO INCOME RATIO'].mean()"
   ]
  },
  {
   "cell_type": "code",
   "execution_count": 42,
   "metadata": {},
   "outputs": [
    {
     "data": {
      "text/plain": [
       "34.0"
      ]
     },
     "execution_count": 42,
     "metadata": {},
     "output_type": "execute_result"
    }
   ],
   "source": [
    "fan_train['DEBT TO INCOME RATIO'].median()"
   ]
  },
  {
   "cell_type": "code",
   "execution_count": 43,
   "metadata": {},
   "outputs": [
    {
     "data": {
      "text/plain": [
       "0    44.0\n",
       "dtype: float64"
      ]
     },
     "execution_count": 43,
     "metadata": {},
     "output_type": "execute_result"
    }
   ],
   "source": [
    "fan_train['DEBT TO INCOME RATIO'].mode()"
   ]
  },
  {
   "cell_type": "code",
   "execution_count": 44,
   "metadata": {},
   "outputs": [],
   "source": [
    "fan_train['DEBT TO INCOME RATIO']=fan_train['DEBT TO INCOME RATIO'].fillna(Mean)"
   ]
  },
  {
   "cell_type": "code",
   "execution_count": 45,
   "metadata": {},
   "outputs": [
    {
     "data": {
      "text/plain": [
       "754.2533563201526"
      ]
     },
     "execution_count": 45,
     "metadata": {},
     "output_type": "execute_result"
    }
   ],
   "source": [
    "meanb=fan_train['BORROWER CREDIT SCORE AT ORIGINATION'].mean()\n",
    "meanb"
   ]
  },
  {
   "cell_type": "code",
   "execution_count": 46,
   "metadata": {},
   "outputs": [
    {
     "data": {
      "text/plain": [
       "766.0"
      ]
     },
     "execution_count": 46,
     "metadata": {},
     "output_type": "execute_result"
    }
   ],
   "source": [
    "fan_train['BORROWER CREDIT SCORE AT ORIGINATION'].median()"
   ]
  },
  {
   "cell_type": "code",
   "execution_count": 47,
   "metadata": {},
   "outputs": [
    {
     "data": {
      "text/plain": [
       "0    801.0\n",
       "dtype: float64"
      ]
     },
     "execution_count": 47,
     "metadata": {},
     "output_type": "execute_result"
    }
   ],
   "source": [
    "fan_train['BORROWER CREDIT SCORE AT ORIGINATION'].mode()"
   ]
  },
  {
   "cell_type": "code",
   "execution_count": 48,
   "metadata": {},
   "outputs": [],
   "source": [
    "fan_train['BORROWER CREDIT SCORE AT ORIGINATION']=fan_train['BORROWER CREDIT SCORE AT ORIGINATION'].fillna(meanb)"
   ]
  },
  {
   "cell_type": "code",
   "execution_count": 49,
   "metadata": {},
   "outputs": [
    {
     "data": {
      "text/plain": [
       "Unnamed: 0                                      0\n",
       "LOAN IDENTIFIER                                 0\n",
       "ORIGINATION CHANNEL                             0\n",
       "SELLER NAME                                     0\n",
       "INTEREST RATE                                   0\n",
       "UPB                                             0\n",
       "LOAN TERM                                       0\n",
       "ORIGINATION DATE                                0\n",
       "FIRST PAYMENT DATE                              0\n",
       "LOAN-TO-VALUE(LTV)                              0\n",
       "COMBINED LOAN-TO-VALUE (CLTV)                   0\n",
       "NUMBER OF BORROWERS                             0\n",
       "DEBT TO INCOME RATIO                            0\n",
       "BORROWER CREDIT SCORE AT ORIGINATION            0\n",
       "FIRST TIME HOME BUYER INDICATOR                 0\n",
       "LOAN PURPOSE                                    0\n",
       "PROPERTY TYPE                                   0\n",
       "NUMBER OF UNITS                                 0\n",
       "OCCUPANCY TYPE                                  0\n",
       "PROPERTY STATE                                  0\n",
       "ZIP CODE SHORT                                  0\n",
       "PRIMARY MORTGAGE INSURANCE PERCENT         321351\n",
       "CO-BORROWER CREDIT SCORE AT ORIGINATION    216359\n",
       "MORTGAGE INSURANCE TYPE                    321351\n",
       "RELOCATION MORTGAGE INDICATOR                   0\n",
       "Default_status                             293938\n",
       "Default Status                                  0\n",
       "dtype: int64"
      ]
     },
     "execution_count": 49,
     "metadata": {},
     "output_type": "execute_result"
    }
   ],
   "source": [
    "fan_train.apply(lambda x: sum(x.isnull()))"
   ]
  },
  {
   "cell_type": "markdown",
   "metadata": {},
   "source": [
    "Outlier treatment"
   ]
  },
  {
   "cell_type": "code",
   "execution_count": 50,
   "metadata": {},
   "outputs": [
    {
     "data": {
      "text/plain": [
       "<matplotlib.axes._subplots.AxesSubplot at 0x1a39f860>"
      ]
     },
     "execution_count": 50,
     "metadata": {},
     "output_type": "execute_result"
    },
    {
     "data": {
      "image/png": "[encoded data removed]",
      "text/plain": [
       "<Figure size 432x288 with 1 Axes>"
      ]
     },
     "metadata": {
      "needs_background": "light"
     },
     "output_type": "display_data"
    }
   ],
   "source": [
    "fan_train.plot('LOAN IDENTIFIER','INTEREST RATE',kind='scatter')"
   ]
  },
  {
   "cell_type": "markdown",
   "metadata": {},
   "source": [
    "few loan identifier having interest rate more than 5.5 percent"
   ]
  },
  {
   "cell_type": "code",
   "execution_count": 51,
   "metadata": {},
   "outputs": [
    {
     "data": {
      "text/plain": [
       "<matplotlib.axes._subplots.AxesSubplot at 0x25584c88>"
      ]
     },
     "execution_count": 51,
     "metadata": {},
     "output_type": "execute_result"
    },
    {
     "data": {
      "image/png": "[encoded data removed]",
      "text/plain": [
       "<Figure size 432x288 with 1 Axes>"
      ]
     },
     "metadata": {
      "needs_background": "light"
     },
     "output_type": "display_data"
    }
   ],
   "source": [
    "fan_train.plot('LOAN IDENTIFIER','LOAN-TO-VALUE(LTV)',kind='scatter')"
   ]
  },
  {
   "cell_type": "code",
   "execution_count": 52,
   "metadata": {},
   "outputs": [
    {
     "data": {
      "text/plain": [
       "<matplotlib.axes._subplots.AxesSubplot at 0x2444d048>"
      ]
     },
     "execution_count": 52,
     "metadata": {},
     "output_type": "execute_result"
    },
    {
     "data": {
      "image/png": "[encoded data removed]",
      "text/plain": [
       "<Figure size 432x288 with 1 Axes>"
      ]
     },
     "metadata": {
      "needs_background": "light"
     },
     "output_type": "display_data"
    }
   ],
   "source": [
    "fan_train.plot('LOAN IDENTIFIER','DEBT TO INCOME RATIO',kind='scatter')"
   ]
  },
  {
   "cell_type": "markdown",
   "metadata": {},
   "source": [
    "Variable Transformation"
   ]
  },
  {
   "cell_type": "code",
   "execution_count": 53,
   "metadata": {},
   "outputs": [
    {
     "data": {
      "text/plain": [
       "SF    0.627480\n",
       "PU    0.270998\n",
       "CO    0.092202\n",
       "MH    0.005058\n",
       "CP    0.004263\n",
       "Name: PROPERTY TYPE, dtype: float64"
      ]
     },
     "execution_count": 53,
     "metadata": {},
     "output_type": "execute_result"
    }
   ],
   "source": [
    "fan_train['PROPERTY TYPE'].value_counts()/fan_train.shape[0]"
   ]
  },
  {
   "cell_type": "code",
   "execution_count": 54,
   "metadata": {},
   "outputs": [],
   "source": [
    "categories_comb= ['Others','MH and CP']"
   ]
  },
  {
   "cell_type": "code",
   "execution_count": 55,
   "metadata": {},
   "outputs": [],
   "source": [
    "for cat in categories_comb:\n",
    "    fan_train['PROPERTY TYPE'].replace({cat:'Others'},inplace=True)"
   ]
  },
  {
   "cell_type": "code",
   "execution_count": 56,
   "metadata": {},
   "outputs": [
    {
     "data": {
      "text/plain": [
       "SF    0.627480\n",
       "PU    0.270998\n",
       "CO    0.092202\n",
       "MH    0.005058\n",
       "CP    0.004263\n",
       "Name: PROPERTY TYPE, dtype: float64"
      ]
     },
     "execution_count": 56,
     "metadata": {},
     "output_type": "execute_result"
    }
   ],
   "source": [
    "fan_train['PROPERTY TYPE'].value_counts()/fan_train.shape[0]"
   ]
  },
  {
   "cell_type": "code",
   "execution_count": 57,
   "metadata": {},
   "outputs": [
    {
     "data": {
      "text/plain": [
       "CA    0.192246\n",
       "TX    0.078543\n",
       "FL    0.052981\n",
       "IL    0.042560\n",
       "CO    0.036982\n",
       "WA    0.031768\n",
       "MI    0.030991\n",
       "AZ    0.029312\n",
       "NY    0.028658\n",
       "PA    0.027125\n",
       "VA    0.026594\n",
       "NC    0.025489\n",
       "GA    0.025335\n",
       "NJ    0.025319\n",
       "MA    0.023610\n",
       "WI    0.023060\n",
       "OH    0.022122\n",
       "MN    0.021838\n",
       "MD    0.019299\n",
       "OR    0.018382\n",
       "UT    0.017090\n",
       "MO    0.016849\n",
       "TN    0.015829\n",
       "IN    0.015387\n",
       "SC    0.013359\n",
       "NV    0.012607\n",
       "IA    0.010322\n",
       "LA    0.010022\n",
       "AL    0.009832\n",
       "OK    0.008791\n",
       "CT    0.007813\n",
       "KY    0.007657\n",
       "ID    0.007196\n",
       "NE    0.006614\n",
       "KS    0.005567\n",
       "NM    0.005189\n",
       "AR    0.004957\n",
       "MS    0.004240\n",
       "HI    0.003903\n",
       "MT    0.003775\n",
       "NH    0.003598\n",
       "DE    0.003406\n",
       "SD    0.003206\n",
       "PR    0.002954\n",
       "DC    0.002801\n",
       "ND    0.002564\n",
       "WY    0.002457\n",
       "RI    0.002404\n",
       "ME    0.002104\n",
       "WV    0.002005\n",
       "AK    0.001799\n",
       "VT    0.001407\n",
       "VI    0.000062\n",
       "GU    0.000023\n",
       "Name: PROPERTY STATE, dtype: float64"
      ]
     },
     "execution_count": 57,
     "metadata": {},
     "output_type": "execute_result"
    }
   ],
   "source": [
    "frq=fan_train['PROPERTY STATE'].value_counts()/fan_train.shape[0]\n",
    "frq"
   ]
  },
  {
   "cell_type": "code",
   "execution_count": 58,
   "metadata": {},
   "outputs": [],
   "source": [
    "cate_prop_state=frq.loc[frq.values<.025].index\n",
    "\n",
    "for cat in cate_prop_state:\n",
    "    fan_train['PROPERTY STATE'].replace({cat:'other states'},inplace=True)"
   ]
  },
  {
   "cell_type": "code",
   "execution_count": 59,
   "metadata": {},
   "outputs": [
    {
     "data": {
      "text/plain": [
       "other states    0.346096\n",
       "CA              0.192246\n",
       "TX              0.078543\n",
       "FL              0.052981\n",
       "IL              0.042560\n",
       "CO              0.036982\n",
       "WA              0.031768\n",
       "MI              0.030991\n",
       "AZ              0.029312\n",
       "NY              0.028658\n",
       "PA              0.027125\n",
       "VA              0.026594\n",
       "NC              0.025489\n",
       "GA              0.025335\n",
       "NJ              0.025319\n",
       "Name: PROPERTY STATE, dtype: float64"
      ]
     },
     "execution_count": 59,
     "metadata": {},
     "output_type": "execute_result"
    }
   ],
   "source": [
    "fan_train['PROPERTY STATE'].value_counts()/fan_train.shape[0]"
   ]
  },
  {
   "cell_type": "code",
   "execution_count": 60,
   "metadata": {},
   "outputs": [],
   "source": [
    "fan_train.drop([\"LOAN IDENTIFIER\"],axis=1,inplace=True)\n",
    "fan_train.drop([\"SELLER NAME\"],axis=1,inplace=True)\n",
    "fan_train.drop([\"ORIGINATION DATE\"],axis=1,inplace=True)\n",
    "fan_train.drop([\"FIRST PAYMENT DATE\"],axis=1,inplace=True)\n",
    "fan_train.drop([\"NUMBER OF BORROWERS\"],axis=1,inplace=True)\n",
    "fan_train.drop([\"ZIP CODE SHORT\"],axis=1,inplace=True)\n",
    "fan_train.drop([\"PRIMARY MORTGAGE INSURANCE PERCENT\"],axis=1,inplace=True)\n",
    "fan_train.drop([\"CO-BORROWER CREDIT SCORE AT ORIGINATION\"],axis=1,inplace=True)"
   ]
  },
  {
   "cell_type": "code",
   "execution_count": 61,
   "metadata": {},
   "outputs": [
    {
     "data": {
      "text/plain": [
       "Unnamed: 0                                int64\n",
       "ORIGINATION CHANNEL                      object\n",
       "INTEREST RATE                           float64\n",
       "UPB                                       int64\n",
       "LOAN TERM                                 int64\n",
       "LOAN-TO-VALUE(LTV)                        int64\n",
       "COMBINED LOAN-TO-VALUE (CLTV)             int64\n",
       "DEBT TO INCOME RATIO                    float64\n",
       "BORROWER CREDIT SCORE AT ORIGINATION    float64\n",
       "FIRST TIME HOME BUYER INDICATOR          object\n",
       "LOAN PURPOSE                             object\n",
       "PROPERTY TYPE                            object\n",
       "NUMBER OF UNITS                           int64\n",
       "OCCUPANCY TYPE                           object\n",
       "PROPERTY STATE                           object\n",
       "MORTGAGE INSURANCE TYPE                 float64\n",
       "RELOCATION MORTGAGE INDICATOR            object\n",
       "Default_status                          float64\n",
       "Default Status                            int64\n",
       "dtype: object"
      ]
     },
     "execution_count": 61,
     "metadata": {},
     "output_type": "execute_result"
    }
   ],
   "source": [
    "fan_train.dtypes"
   ]
  },
  {
   "cell_type": "code",
   "execution_count": 62,
   "metadata": {},
   "outputs": [],
   "source": [
    "fan_train.drop([\"COMBINED LOAN-TO-VALUE (CLTV)\"],axis=1,inplace=True)\n",
    "fan_train.drop([\"NUMBER OF UNITS\"],axis=1,inplace=True)\n",
    "fan_train.drop([\"MORTGAGE INSURANCE TYPE\"],axis=1,inplace=True)\n"
   ]
  },
  {
   "cell_type": "code",
   "execution_count": 63,
   "metadata": {},
   "outputs": [
    {
     "data": {
      "text/plain": [
       "Unnamed: 0                                int64\n",
       "ORIGINATION CHANNEL                      object\n",
       "INTEREST RATE                           float64\n",
       "UPB                                       int64\n",
       "LOAN TERM                                 int64\n",
       "LOAN-TO-VALUE(LTV)                        int64\n",
       "DEBT TO INCOME RATIO                    float64\n",
       "BORROWER CREDIT SCORE AT ORIGINATION    float64\n",
       "FIRST TIME HOME BUYER INDICATOR          object\n",
       "LOAN PURPOSE                             object\n",
       "PROPERTY TYPE                            object\n",
       "OCCUPANCY TYPE                           object\n",
       "PROPERTY STATE                           object\n",
       "RELOCATION MORTGAGE INDICATOR            object\n",
       "Default_status                          float64\n",
       "Default Status                            int64\n",
       "dtype: object"
      ]
     },
     "execution_count": 63,
     "metadata": {},
     "output_type": "execute_result"
    }
   ],
   "source": [
    "fan_train.dtypes"
   ]
  },
  {
   "cell_type": "markdown",
   "metadata": {},
   "source": [
    "Predictive Modelling using Decision Tree Model\n",
    "\n",
    "Data Preprocessing"
   ]
  },
  {
   "cell_type": "code",
   "execution_count": 64,
   "metadata": {},
   "outputs": [],
   "source": [
    "fan_train.drop([\"Default_status\"],axis=1,inplace=True)"
   ]
  },
  {
   "cell_type": "code",
   "execution_count": 65,
   "metadata": {},
   "outputs": [],
   "source": [
    "fan_train.drop([\"Unnamed: 0\"],axis=1,inplace=True)"
   ]
  },
  {
   "cell_type": "code",
   "execution_count": 66,
   "metadata": {},
   "outputs": [],
   "source": [
    "fan_train.drop([\"UPB\"],axis=1,inplace=True)"
   ]
  },
  {
   "cell_type": "code",
   "execution_count": 67,
   "metadata": {},
   "outputs": [],
   "source": [
    "from sklearn.preprocessing import LabelEncoder"
   ]
  },
  {
   "cell_type": "code",
   "execution_count": 68,
   "metadata": {},
   "outputs": [
    {
     "data": {
      "text/plain": [
       "Index(['ORIGINATION CHANNEL', 'FIRST TIME HOME BUYER INDICATOR',\n",
       "       'LOAN PURPOSE', 'PROPERTY TYPE', 'OCCUPANCY TYPE', 'PROPERTY STATE',\n",
       "       'RELOCATION MORTGAGE INDICATOR'],\n",
       "      dtype='object')"
      ]
     },
     "execution_count": 68,
     "metadata": {},
     "output_type": "execute_result"
    }
   ],
   "source": [
    "cate_v=fan_train.dtypes.loc[fan_train.dtypes=='object'].index\n",
    "cate_v"
   ]
  },
  {
   "cell_type": "code",
   "execution_count": 69,
   "metadata": {},
   "outputs": [],
   "source": [
    "le= LabelEncoder()\n",
    "for var in cate_v:\n",
    "    fan_train[var]=le.fit_transform(fan_train[var])"
   ]
  },
  {
   "cell_type": "code",
   "execution_count": 70,
   "metadata": {},
   "outputs": [
    {
     "data": {
      "text/plain": [
       "ORIGINATION CHANNEL                       int32\n",
       "INTEREST RATE                           float64\n",
       "LOAN TERM                                 int64\n",
       "LOAN-TO-VALUE(LTV)                        int64\n",
       "DEBT TO INCOME RATIO                    float64\n",
       "BORROWER CREDIT SCORE AT ORIGINATION    float64\n",
       "FIRST TIME HOME BUYER INDICATOR           int32\n",
       "LOAN PURPOSE                              int32\n",
       "PROPERTY TYPE                             int32\n",
       "OCCUPANCY TYPE                            int32\n",
       "PROPERTY STATE                            int32\n",
       "RELOCATION MORTGAGE INDICATOR             int32\n",
       "Default Status                            int64\n",
       "dtype: object"
      ]
     },
     "execution_count": 70,
     "metadata": {},
     "output_type": "execute_result"
    }
   ],
   "source": [
    "fan_train.dtypes"
   ]
  },
  {
   "cell_type": "code",
   "execution_count": 71,
   "metadata": {},
   "outputs": [],
   "source": [
    "fan_trainf=fan_train[fan_train['Default Status'] !=100]"
   ]
  },
  {
   "cell_type": "code",
   "execution_count": 72,
   "metadata": {},
   "outputs": [
    {
     "data": {
      "text/html": [
       "<div>\n",
       "<style scoped>\n",
       "    .dataframe tbody tr th:only-of-type {\n",
       "        vertical-align: middle;\n",
       "    }\n",
       "\n",
       "    .dataframe tbody tr th {\n",
       "        vertical-align: top;\n",
       "    }\n",
       "\n",
       "    .dataframe thead th {\n",
       "        text-align: right;\n",
       "    }\n",
       "</style>\n",
       "<table border=\"1\" class=\"dataframe\">\n",
       "  <thead>\n",
       "    <tr style=\"text-align: right;\">\n",
       "      <th></th>\n",
       "      <th>ORIGINATION CHANNEL</th>\n",
       "      <th>INTEREST RATE</th>\n",
       "      <th>LOAN TERM</th>\n",
       "      <th>LOAN-TO-VALUE(LTV)</th>\n",
       "      <th>DEBT TO INCOME RATIO</th>\n",
       "      <th>BORROWER CREDIT SCORE AT ORIGINATION</th>\n",
       "      <th>FIRST TIME HOME BUYER INDICATOR</th>\n",
       "      <th>LOAN PURPOSE</th>\n",
       "      <th>PROPERTY TYPE</th>\n",
       "      <th>OCCUPANCY TYPE</th>\n",
       "      <th>PROPERTY STATE</th>\n",
       "      <th>RELOCATION MORTGAGE INDICATOR</th>\n",
       "      <th>Default Status</th>\n",
       "    </tr>\n",
       "  </thead>\n",
       "  <tbody>\n",
       "    <tr>\n",
       "      <th>0</th>\n",
       "      <td>2</td>\n",
       "      <td>4.125</td>\n",
       "      <td>360</td>\n",
       "      <td>95</td>\n",
       "      <td>32.0</td>\n",
       "      <td>652.0</td>\n",
       "      <td>0</td>\n",
       "      <td>1</td>\n",
       "      <td>3</td>\n",
       "      <td>1</td>\n",
       "      <td>7</td>\n",
       "      <td>0</td>\n",
       "      <td>0</td>\n",
       "    </tr>\n",
       "    <tr>\n",
       "      <th>1</th>\n",
       "      <td>2</td>\n",
       "      <td>4.125</td>\n",
       "      <td>312</td>\n",
       "      <td>77</td>\n",
       "      <td>34.0</td>\n",
       "      <td>732.0</td>\n",
       "      <td>0</td>\n",
       "      <td>2</td>\n",
       "      <td>3</td>\n",
       "      <td>1</td>\n",
       "      <td>5</td>\n",
       "      <td>0</td>\n",
       "      <td>0</td>\n",
       "    </tr>\n",
       "    <tr>\n",
       "      <th>2</th>\n",
       "      <td>1</td>\n",
       "      <td>3.875</td>\n",
       "      <td>360</td>\n",
       "      <td>80</td>\n",
       "      <td>42.0</td>\n",
       "      <td>813.0</td>\n",
       "      <td>0</td>\n",
       "      <td>1</td>\n",
       "      <td>4</td>\n",
       "      <td>1</td>\n",
       "      <td>4</td>\n",
       "      <td>0</td>\n",
       "      <td>0</td>\n",
       "    </tr>\n",
       "    <tr>\n",
       "      <th>5</th>\n",
       "      <td>2</td>\n",
       "      <td>3.125</td>\n",
       "      <td>180</td>\n",
       "      <td>86</td>\n",
       "      <td>34.0</td>\n",
       "      <td>797.0</td>\n",
       "      <td>0</td>\n",
       "      <td>2</td>\n",
       "      <td>4</td>\n",
       "      <td>1</td>\n",
       "      <td>14</td>\n",
       "      <td>0</td>\n",
       "      <td>0</td>\n",
       "    </tr>\n",
       "    <tr>\n",
       "      <th>6</th>\n",
       "      <td>2</td>\n",
       "      <td>4.125</td>\n",
       "      <td>360</td>\n",
       "      <td>38</td>\n",
       "      <td>35.0</td>\n",
       "      <td>738.0</td>\n",
       "      <td>0</td>\n",
       "      <td>0</td>\n",
       "      <td>4</td>\n",
       "      <td>1</td>\n",
       "      <td>14</td>\n",
       "      <td>0</td>\n",
       "      <td>0</td>\n",
       "    </tr>\n",
       "  </tbody>\n",
       "</table>\n",
       "</div>"
      ],
      "text/plain": [
       "   ORIGINATION CHANNEL  INTEREST RATE  LOAN TERM  LOAN-TO-VALUE(LTV)  \\\n",
       "0                    2          4.125        360                  95   \n",
       "1                    2          4.125        312                  77   \n",
       "2                    1          3.875        360                  80   \n",
       "5                    2          3.125        180                  86   \n",
       "6                    2          4.125        360                  38   \n",
       "\n",
       "   DEBT TO INCOME RATIO  BORROWER CREDIT SCORE AT ORIGINATION  \\\n",
       "0                  32.0                                 652.0   \n",
       "1                  34.0                                 732.0   \n",
       "2                  42.0                                 813.0   \n",
       "5                  34.0                                 797.0   \n",
       "6                  35.0                                 738.0   \n",
       "\n",
       "   FIRST TIME HOME BUYER INDICATOR  LOAN PURPOSE  PROPERTY TYPE  \\\n",
       "0                                0             1              3   \n",
       "1                                0             2              3   \n",
       "2                                0             1              4   \n",
       "5                                0             2              4   \n",
       "6                                0             0              4   \n",
       "\n",
       "   OCCUPANCY TYPE  PROPERTY STATE  RELOCATION MORTGAGE INDICATOR  \\\n",
       "0               1               7                              0   \n",
       "1               1               5                              0   \n",
       "2               1               4                              0   \n",
       "5               1              14                              0   \n",
       "6               1              14                              0   \n",
       "\n",
       "   Default Status  \n",
       "0               0  \n",
       "1               0  \n",
       "2               0  \n",
       "5               0  \n",
       "6               0  "
      ]
     },
     "execution_count": 72,
     "metadata": {},
     "output_type": "execute_result"
    }
   ],
   "source": [
    "fan_trainf.head(5)"
   ]
  },
  {
   "cell_type": "code",
   "execution_count": 73,
   "metadata": {},
   "outputs": [
    {
     "data": {
      "text/plain": [
       "(297193, 13)"
      ]
     },
     "execution_count": 73,
     "metadata": {},
     "output_type": "execute_result"
    }
   ],
   "source": [
    "fan_trainf.shape"
   ]
  },
  {
   "cell_type": "code",
   "execution_count": 74,
   "metadata": {
    "scrolled": true
   },
   "outputs": [
    {
     "data": {
      "text/plain": [
       "ORIGINATION CHANNEL                       int32\n",
       "INTEREST RATE                           float64\n",
       "LOAN TERM                                 int64\n",
       "LOAN-TO-VALUE(LTV)                        int64\n",
       "DEBT TO INCOME RATIO                    float64\n",
       "BORROWER CREDIT SCORE AT ORIGINATION    float64\n",
       "FIRST TIME HOME BUYER INDICATOR           int32\n",
       "LOAN PURPOSE                              int32\n",
       "PROPERTY TYPE                             int32\n",
       "OCCUPANCY TYPE                            int32\n",
       "PROPERTY STATE                            int32\n",
       "RELOCATION MORTGAGE INDICATOR             int32\n",
       "Default Status                            int64\n",
       "dtype: object"
      ]
     },
     "execution_count": 74,
     "metadata": {},
     "output_type": "execute_result"
    }
   ],
   "source": [
    "fan_trainf.dtypes"
   ]
  },
  {
   "cell_type": "code",
   "execution_count": 75,
   "metadata": {},
   "outputs": [
    {
     "name": "stdout",
     "output_type": "stream",
     "text": [
      "No default = 293938\n",
      "default = 3255\n",
      "Proportion of no default to default = 1.11%\n"
     ]
    },
    {
     "data": {
      "image/png": "[encoded data removed]",
      "text/plain": [
       "<Figure size 576x432 with 1 Axes>"
      ]
     },
     "metadata": {
      "needs_background": "light"
     },
     "output_type": "display_data"
    }
   ],
   "source": [
    "no_default= fan_trainf[fan_trainf[\"Default Status\"] == 0].shape[0]\n",
    "default = fan_trainf[fan_trainf[\"Default Status\"] == 1].shape[0]\n",
    "print(f\"No default = {no_default}\")\n",
    "print(f\"default = {default}\")\n",
    "print(f\"Proportion of no default to default = {(default /no_default) * 100:.2f}%\")\n",
    "plt.figure(figsize=(8, 6))\n",
    "sn.countplot(fan_trainf[\"Default Status\"])\n",
    "plt.xticks((0, 1), [\"No default\", \"Default\"])\n",
    "plt.xlabel(\"\")\n",
    "plt.ylabel(\"Count\")\n",
    "plt.title(\"Class counts\", y=1, fontdict={\"fontsize\": 20});"
   ]
  },
  {
   "cell_type": "code",
   "execution_count": null,
   "metadata": {},
   "outputs": [],
   "source": []
  },
  {
   "cell_type": "code",
   "execution_count": 76,
   "metadata": {},
   "outputs": [],
   "source": [
    "X = fan_trainf.loc[:, fan_trainf.columns != \"Default Status\"].values\n",
    "y = fan_trainf.loc[:, fan_trainf.columns == \"Default Status\"].values.flatten()"
   ]
  },
  {
   "cell_type": "code",
   "execution_count": 77,
   "metadata": {},
   "outputs": [],
   "source": [
    "from sklearn.model_selection import train_test_split, cross_val_score, cross_val_predict\n",
    "from sklearn.preprocessing import Imputer, RobustScaler, FunctionTransformer\n",
    "from sklearn.ensemble import RandomForestClassifier, VotingClassifier, GradientBoostingClassifier\n",
    "from sklearn.ensemble.partial_dependence import plot_partial_dependence\n",
    "from sklearn.linear_model import LogisticRegression\n",
    "from sklearn.svm import SVC, LinearSVC\n",
    "from sklearn.neighbors import KNeighborsClassifier\n",
    "from sklearn.metrics import (roc_auc_score, confusion_matrix,\n",
    "                             accuracy_score, roc_curve,\n",
    "                             precision_recall_curve, f1_score)"
   ]
  },
  {
   "cell_type": "code",
   "execution_count": 78,
   "metadata": {},
   "outputs": [
    {
     "name": "stdout",
     "output_type": "stream",
     "text": [
      "Original data shapes: ((208035, 12), (89158, 12))\n"
     ]
    }
   ],
   "source": [
    "X_train, X_test, y_train, y_test = train_test_split(X, y, test_size=0.3, random_state=123, stratify=y)\n",
    "print(f\"Original data shapes: {X_train.shape, X_test.shape}\")"
   ]
  },
  {
   "cell_type": "code",
   "execution_count": null,
   "metadata": {},
   "outputs": [],
   "source": []
  },
  {
   "cell_type": "code",
   "execution_count": 79,
   "metadata": {},
   "outputs": [],
   "source": [
    "from imblearn.pipeline import make_pipeline as imb_make_pipeline"
   ]
  },
  {
   "cell_type": "code",
   "execution_count": 80,
   "metadata": {},
   "outputs": [],
   "source": [
    "rf_clf = RandomForestClassifier(n_estimators=1000,\n",
    "                                max_features=0.30,\n",
    "                                criterion=\"entropy\",\n",
    "                                class_weight=\"balanced\")"
   ]
  },
  {
   "cell_type": "code",
   "execution_count": 81,
   "metadata": {},
   "outputs": [
    {
     "name": "stderr",
     "output_type": "stream",
     "text": [
      "C:\\Users\\Aman\\Anaconda3\\lib\\site-packages\\sklearn\\ensemble\\forest.py:246: FutureWarning: The default value of n_estimators will change from 10 in version 0.20 to 100 in 0.22.\n",
      "  \"10 in version 0.20 to 100 in 0.22.\", FutureWarning)\n"
     ]
    },
    {
     "data": {
      "text/plain": [
       "RandomForestClassifier(bootstrap=True, class_weight=None, criterion='gini',\n",
       "            max_depth=None, max_features='auto', max_leaf_nodes=None,\n",
       "            min_impurity_decrease=0.0, min_impurity_split=None,\n",
       "            min_samples_leaf=1, min_samples_split=2,\n",
       "            min_weight_fraction_leaf=0.0, n_estimators=10, n_jobs=None,\n",
       "            oob_score=False, random_state=None, verbose=0,\n",
       "            warm_start=False)"
      ]
     },
     "execution_count": 81,
     "metadata": {},
     "output_type": "execute_result"
    }
   ],
   "source": [
    "rf_clf = RandomForestClassifier()\n",
    "rf_clf.fit(X_train,y_train)"
   ]
  },
  {
   "cell_type": "code",
   "execution_count": 82,
   "metadata": {},
   "outputs": [],
   "source": [
    "y_pred=rf_clf.predict(X_test)"
   ]
  },
  {
   "cell_type": "code",
   "execution_count": 83,
   "metadata": {},
   "outputs": [],
   "source": [
    "from sklearn import metrics"
   ]
  },
  {
   "cell_type": "code",
   "execution_count": 84,
   "metadata": {},
   "outputs": [
    {
     "name": "stdout",
     "output_type": "stream",
     "text": [
      "Accuracy: 0.9887615244846228\n"
     ]
    }
   ],
   "source": [
    "print(\"Accuracy:\",metrics.accuracy_score(y_test, y_pred))"
   ]
  },
  {
   "cell_type": "code",
   "execution_count": 85,
   "metadata": {},
   "outputs": [],
   "source": [
    "import numpy as np"
   ]
  },
  {
   "cell_type": "code",
   "execution_count": 86,
   "metadata": {},
   "outputs": [],
   "source": [
    "\n",
    "importances = rf_clf.feature_importances_"
   ]
  },
  {
   "cell_type": "code",
   "execution_count": 87,
   "metadata": {},
   "outputs": [],
   "source": [
    "indices = np.argsort(rf_clf.feature_importances_)[::-1]"
   ]
  },
  {
   "cell_type": "code",
   "execution_count": 88,
   "metadata": {},
   "outputs": [
    {
     "data": {
      "image/png": "[encoded data removed]",
      "text/plain": [
       "<Figure size 864x432 with 1 Axes>"
      ]
     },
     "metadata": {
      "needs_background": "light"
     },
     "output_type": "display_data"
    }
   ],
   "source": [
    "plt.figure(figsize=(12, 6))\n",
    "plt.bar(range(1,13), importances[indices], align=\"center\")\n",
    "plt.xticks(range(1,13), fan_trainf.columns[fan_trainf.columns != \"Default Status\"][indices], rotation=90)\n",
    "plt.title(\"Feature Importance\", {\"fontsize\": 16});"
   ]
  },
  {
   "cell_type": "code",
   "execution_count": 89,
   "metadata": {},
   "outputs": [],
   "source": [
    "std = RobustScaler()\n",
    "std.fit(X_train)\n",
    "X_train = std.transform(X_train)\n",
    "X_test = std.transform(X_test)"
   ]
  },
  {
   "cell_type": "code",
   "execution_count": 90,
   "metadata": {},
   "outputs": [],
   "source": [
    "from imblearn.pipeline import make_pipeline as imb_make_pipeline\n",
    "from imblearn.over_sampling import RandomOverSampler, SMOTE\n",
    "from imblearn.under_sampling import RandomUnderSampler\n",
    "from imblearn.ensemble import BalancedBaggingClassifier, EasyEnsemble"
   ]
  },
  {
   "cell_type": "code",
   "execution_count": 91,
   "metadata": {},
   "outputs": [],
   "source": [
    "random_undersampler = RandomUnderSampler()\n",
    "X_res, y_res = random_undersampler.fit_sample(X_train, y_train)"
   ]
  },
  {
   "cell_type": "code",
   "execution_count": 92,
   "metadata": {},
   "outputs": [
    {
     "data": {
      "text/plain": [
       "((4556, 12), (4556,))"
      ]
     },
     "execution_count": 92,
     "metadata": {},
     "output_type": "execute_result"
    }
   ],
   "source": [
    "perms = np.random.permutation(X_res.shape[0])\n",
    "X_res = X_res[perms]\n",
    "y_res = y_res[perms]\n",
    "X_res.shape, y_res.shape"
   ]
  },
  {
   "cell_type": "code",
   "execution_count": 98,
   "metadata": {},
   "outputs": [
    {
     "data": {
      "image/png": "[encoded data removed]",
      "text/plain": [
       "<Figure size 1008x720 with 8 Axes>"
      ]
     },
     "metadata": {
      "needs_background": "light"
     },
     "output_type": "display_data"
    }
   ],
   "source": [
    "gbrt = GradientBoostingClassifier(loss=\"deviance\",\n",
    "                                  learning_rate=0.1,\n",
    "                                  n_estimators=1000,\n",
    "                                  max_depth=3,\n",
    "                                  random_state=123)\n",
    "gbrt.fit(X_res, y_res)\n",
    "fig, axes = plot_partial_dependence(gbrt, X_res,\n",
    "                                    np.argsort(gbrt.feature_importances_)[::-1][:8],\n",
    "                                    n_cols=4,\n",
    "                                    feature_names=fan_trainf.columns[:-1],\n",
    "                                    figsize=(14, 10))\n",
    "plt.subplots_adjust(top=0.9)\n",
    "plt.suptitle(\"Partial dependence plots of Defaulters on top most influential features\")\n",
    "for ax in axes: ax.set_xticks(())"
   ]
  },
  {
   "cell_type": "code",
   "execution_count": null,
   "metadata": {},
   "outputs": [],
   "source": []
  }
 ],
 "metadata": {
  "kernelspec": {
   "display_name": "Python 3",
   "language": "python",
   "name": "python3"
  },
  "language_info": {
   "codemirror_mode": {
    "name": "ipython",
    "version": 3
   },
   "file_extension": ".py",
   "mimetype": "text/x-python",
   "name": "python",
   "nbconvert_exporter": "python",
   "pygments_lexer": "ipython3",
   "version": "3.7.0"
  }
 },
 "nbformat": 4,
 "nbformat_minor": 2
}
