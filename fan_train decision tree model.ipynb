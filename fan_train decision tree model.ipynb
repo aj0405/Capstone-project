{
 "cells": [
  {
   "cell_type": "code",
   "execution_count": 1,
   "metadata": {},
   "outputs": [],
   "source": [
    "import os"
   ]
  },
  {
   "cell_type": "code",
   "execution_count": 2,
   "metadata": {},
   "outputs": [
    {
     "data": {
      "text/plain": [
       "'F:\\\\Learning datascience\\\\Python Project'"
      ]
     },
     "execution_count": 2,
     "metadata": {},
     "output_type": "execute_result"
    }
   ],
   "source": [
    "os.getcwd()"
   ]
  },
  {
   "cell_type": "code",
   "execution_count": 3,
   "metadata": {},
   "outputs": [],
   "source": [
    "os.chdir('F:\\Capstone Project\\Prem sir')"
   ]
  },
  {
   "cell_type": "code",
   "execution_count": 4,
   "metadata": {},
   "outputs": [],
   "source": [
    "import pandas as pd"
   ]
  },
  {
   "cell_type": "code",
   "execution_count": 5,
   "metadata": {},
   "outputs": [],
   "source": [
    "fan_train=pd.read_csv('acq_data_merged_q1mod.csv',sep=',',header=0,encoding='latin')"
   ]
  },
  {
   "cell_type": "code",
   "execution_count": 6,
   "metadata": {},
   "outputs": [
    {
     "name": "stdout",
     "output_type": "stream",
     "text": [
      "<class 'pandas.core.frame.DataFrame'>\n",
      "RangeIndex: 436347 entries, 0 to 436346\n",
      "Data columns (total 21 columns):\n",
      "LOAN IDENTIFIER                           436347 non-null float64\n",
      "ORIGINATION CHANNEL                       436347 non-null object\n",
      "SELLER NAME                               436347 non-null object\n",
      "ORIGINAL INTEREST RATE                    436347 non-null float64\n",
      "ORIGINAL UPB                              436347 non-null int64\n",
      "ORIGINAL LOAN TERM                        436347 non-null int64\n",
      "ORIGINATION DATE                          436347 non-null object\n",
      "FIRST PAYMENT DATE                        436347 non-null object\n",
      "ORIGINAL LOAN-TO-VALUE (LTV)              436347 non-null int64\n",
      "ORIGINAL COMBINED LOAN-TO-VALUE (CLTV)    436347 non-null int64\n",
      "ORIGINAL DEBT TO INCOME RATIO             436244 non-null float64\n",
      "BORROWER CREDIT SCORE AT ORIGINATION      436192 non-null float64\n",
      "FIRST TIME HOME BUYER INDICATOR           436347 non-null object\n",
      "LOAN PURPOSE                              436347 non-null object\n",
      "PROPERTY TYPE                             436347 non-null object\n",
      "NUMBER OF UNITS                           436347 non-null int64\n",
      "OCCUPANCY TYPE                            436347 non-null object\n",
      "PROPERTY STATE                            436347 non-null object\n",
      "PRODUCT TYPE                              436347 non-null object\n",
      "RELOCATION MORTGAGE INDICATOR             436347 non-null object\n",
      "Default_status1                           436347 non-null int64\n",
      "dtypes: float64(4), int64(6), object(11)\n",
      "memory usage: 69.9+ MB\n"
     ]
    }
   ],
   "source": [
    "fan_train.info()"
   ]
  },
  {
   "cell_type": "code",
   "execution_count": 7,
   "metadata": {},
   "outputs": [],
   "source": [
    "fan_train.rename(columns={'Default_status1':'Default Status'},inplace=True)"
   ]
  },
  {
   "cell_type": "code",
   "execution_count": 8,
   "metadata": {},
   "outputs": [
    {
     "name": "stdout",
     "output_type": "stream",
     "text": [
      "<class 'pandas.core.frame.DataFrame'>\n",
      "RangeIndex: 436347 entries, 0 to 436346\n",
      "Data columns (total 21 columns):\n",
      "LOAN IDENTIFIER                           436347 non-null float64\n",
      "ORIGINATION CHANNEL                       436347 non-null object\n",
      "SELLER NAME                               436347 non-null object\n",
      "ORIGINAL INTEREST RATE                    436347 non-null float64\n",
      "ORIGINAL UPB                              436347 non-null int64\n",
      "ORIGINAL LOAN TERM                        436347 non-null int64\n",
      "ORIGINATION DATE                          436347 non-null object\n",
      "FIRST PAYMENT DATE                        436347 non-null object\n",
      "ORIGINAL LOAN-TO-VALUE (LTV)              436347 non-null int64\n",
      "ORIGINAL COMBINED LOAN-TO-VALUE (CLTV)    436347 non-null int64\n",
      "ORIGINAL DEBT TO INCOME RATIO             436244 non-null float64\n",
      "BORROWER CREDIT SCORE AT ORIGINATION      436192 non-null float64\n",
      "FIRST TIME HOME BUYER INDICATOR           436347 non-null object\n",
      "LOAN PURPOSE                              436347 non-null object\n",
      "PROPERTY TYPE                             436347 non-null object\n",
      "NUMBER OF UNITS                           436347 non-null int64\n",
      "OCCUPANCY TYPE                            436347 non-null object\n",
      "PROPERTY STATE                            436347 non-null object\n",
      "PRODUCT TYPE                              436347 non-null object\n",
      "RELOCATION MORTGAGE INDICATOR             436347 non-null object\n",
      "Default Status                            436347 non-null int64\n",
      "dtypes: float64(4), int64(6), object(11)\n",
      "memory usage: 69.9+ MB\n"
     ]
    }
   ],
   "source": [
    "fan_train.info()"
   ]
  },
  {
   "cell_type": "code",
   "execution_count": 9,
   "metadata": {},
   "outputs": [
    {
     "name": "stdout",
     "output_type": "stream",
     "text": [
      "<class 'pandas.core.frame.DataFrame'>\n",
      "RangeIndex: 436347 entries, 0 to 436346\n",
      "Data columns (total 21 columns):\n",
      "LOAN IDENTIFIER                           436347 non-null float64\n",
      "ORIGINATION CHANNEL                       436347 non-null object\n",
      "SELLER NAME                               436347 non-null object\n",
      "ORIGINAL INTEREST RATE                    436347 non-null float64\n",
      "ORIGINAL UPB                              436347 non-null int64\n",
      "ORIGINAL LOAN TERM                        436347 non-null int64\n",
      "ORIGINATION DATE                          436347 non-null object\n",
      "FIRST PAYMENT DATE                        436347 non-null object\n",
      "ORIGINAL LOAN-TO-VALUE (LTV)              436347 non-null int64\n",
      "ORIGINAL COMBINED LOAN-TO-VALUE (CLTV)    436347 non-null int64\n",
      "ORIGINAL DEBT TO INCOME RATIO             436244 non-null float64\n",
      "BORROWER CREDIT SCORE AT ORIGINATION      436192 non-null float64\n",
      "FIRST TIME HOME BUYER INDICATOR           436347 non-null object\n",
      "LOAN PURPOSE                              436347 non-null object\n",
      "PROPERTY TYPE                             436347 non-null object\n",
      "NUMBER OF UNITS                           436347 non-null int64\n",
      "OCCUPANCY TYPE                            436347 non-null object\n",
      "PROPERTY STATE                            436347 non-null object\n",
      "PRODUCT TYPE                              436347 non-null object\n",
      "RELOCATION MORTGAGE INDICATOR             436347 non-null object\n",
      "Default Status                            436347 non-null int64\n",
      "dtypes: float64(4), int64(6), object(11)\n",
      "memory usage: 69.9+ MB\n"
     ]
    }
   ],
   "source": [
    "fan_train.info()"
   ]
  },
  {
   "cell_type": "markdown",
   "metadata": {},
   "source": [
    "Categorial Variable analysis "
   ]
  },
  {
   "cell_type": "code",
   "execution_count": 10,
   "metadata": {},
   "outputs": [
    {
     "data": {
      "text/plain": [
       "Index(['ORIGINATION CHANNEL', 'SELLER NAME', 'ORIGINATION DATE',\n",
       "       'FIRST PAYMENT DATE', 'FIRST TIME HOME BUYER INDICATOR', 'LOAN PURPOSE',\n",
       "       'PROPERTY TYPE', 'OCCUPANCY TYPE', 'PROPERTY STATE', 'PRODUCT TYPE',\n",
       "       'RELOCATION MORTGAGE INDICATOR'],\n",
       "      dtype='object')"
      ]
     },
     "execution_count": 10,
     "metadata": {},
     "output_type": "execute_result"
    }
   ],
   "source": [
    "cate_v=fan_train.dtypes.loc[fan_train.dtypes=='object'].index\n",
    "cate_v"
   ]
  },
  {
   "cell_type": "code",
   "execution_count": 11,
   "metadata": {},
   "outputs": [
    {
     "data": {
      "text/plain": [
       "ORIGINATION CHANNEL                 3\n",
       "SELLER NAME                        16\n",
       "ORIGINATION DATE                   27\n",
       "FIRST PAYMENT DATE                 27\n",
       "FIRST TIME HOME BUYER INDICATOR     2\n",
       "LOAN PURPOSE                        3\n",
       "PROPERTY TYPE                       5\n",
       "OCCUPANCY TYPE                      3\n",
       "PROPERTY STATE                     54\n",
       "PRODUCT TYPE                        1\n",
       "RELOCATION MORTGAGE INDICATOR       2\n",
       "dtype: int64"
      ]
     },
     "execution_count": 11,
     "metadata": {},
     "output_type": "execute_result"
    }
   ],
   "source": [
    "fan_train[cate_v].apply(lambda x: len(x.unique()))"
   ]
  },
  {
   "cell_type": "markdown",
   "metadata": {},
   "source": [
    "AS product type has only one unique value ,so dropping the column doesn't have any impact on analysis\n",
    "so dropping product type column"
   ]
  },
  {
   "cell_type": "code",
   "execution_count": 12,
   "metadata": {},
   "outputs": [],
   "source": [
    "fan_train.drop([\"PRODUCT TYPE\"],axis=1,inplace=True)"
   ]
  },
  {
   "cell_type": "code",
   "execution_count": 13,
   "metadata": {},
   "outputs": [
    {
     "data": {
      "text/html": [
       "<div>\n",
       "<style scoped>\n",
       "    .dataframe tbody tr th:only-of-type {\n",
       "        vertical-align: middle;\n",
       "    }\n",
       "\n",
       "    .dataframe tbody tr th {\n",
       "        vertical-align: top;\n",
       "    }\n",
       "\n",
       "    .dataframe thead th {\n",
       "        text-align: right;\n",
       "    }\n",
       "</style>\n",
       "<table border=\"1\" class=\"dataframe\">\n",
       "  <thead>\n",
       "    <tr style=\"text-align: right;\">\n",
       "      <th></th>\n",
       "      <th>LOAN IDENTIFIER</th>\n",
       "      <th>ORIGINATION CHANNEL</th>\n",
       "      <th>SELLER NAME</th>\n",
       "      <th>ORIGINAL INTEREST RATE</th>\n",
       "      <th>ORIGINAL UPB</th>\n",
       "      <th>ORIGINAL LOAN TERM</th>\n",
       "      <th>ORIGINATION DATE</th>\n",
       "      <th>FIRST PAYMENT DATE</th>\n",
       "      <th>ORIGINAL LOAN-TO-VALUE (LTV)</th>\n",
       "      <th>ORIGINAL COMBINED LOAN-TO-VALUE (CLTV)</th>\n",
       "      <th>ORIGINAL DEBT TO INCOME RATIO</th>\n",
       "      <th>BORROWER CREDIT SCORE AT ORIGINATION</th>\n",
       "      <th>FIRST TIME HOME BUYER INDICATOR</th>\n",
       "      <th>LOAN PURPOSE</th>\n",
       "      <th>PROPERTY TYPE</th>\n",
       "      <th>NUMBER OF UNITS</th>\n",
       "      <th>OCCUPANCY TYPE</th>\n",
       "      <th>PROPERTY STATE</th>\n",
       "      <th>RELOCATION MORTGAGE INDICATOR</th>\n",
       "      <th>Default Status</th>\n",
       "    </tr>\n",
       "  </thead>\n",
       "  <tbody>\n",
       "    <tr>\n",
       "      <th>0</th>\n",
       "      <td>1.000020e+11</td>\n",
       "      <td>R</td>\n",
       "      <td>OTHER</td>\n",
       "      <td>4.125</td>\n",
       "      <td>345000</td>\n",
       "      <td>360</td>\n",
       "      <td>01-12-2014</td>\n",
       "      <td>01-02-2015</td>\n",
       "      <td>95</td>\n",
       "      <td>95</td>\n",
       "      <td>32.0</td>\n",
       "      <td>652.0</td>\n",
       "      <td>N</td>\n",
       "      <td>P</td>\n",
       "      <td>PU</td>\n",
       "      <td>1</td>\n",
       "      <td>P</td>\n",
       "      <td>NC</td>\n",
       "      <td>N</td>\n",
       "      <td>0</td>\n",
       "    </tr>\n",
       "    <tr>\n",
       "      <th>1</th>\n",
       "      <td>1.000040e+11</td>\n",
       "      <td>R</td>\n",
       "      <td>WELLS FARGO BANK, N.A.</td>\n",
       "      <td>4.125</td>\n",
       "      <td>293000</td>\n",
       "      <td>312</td>\n",
       "      <td>01-12-2014</td>\n",
       "      <td>01-02-2015</td>\n",
       "      <td>77</td>\n",
       "      <td>77</td>\n",
       "      <td>34.0</td>\n",
       "      <td>732.0</td>\n",
       "      <td>N</td>\n",
       "      <td>R</td>\n",
       "      <td>PU</td>\n",
       "      <td>1</td>\n",
       "      <td>P</td>\n",
       "      <td>IL</td>\n",
       "      <td>N</td>\n",
       "      <td>0</td>\n",
       "    </tr>\n",
       "    <tr>\n",
       "      <th>2</th>\n",
       "      <td>1.000040e+11</td>\n",
       "      <td>C</td>\n",
       "      <td>WELLS FARGO BANK, N.A.</td>\n",
       "      <td>3.875</td>\n",
       "      <td>304000</td>\n",
       "      <td>360</td>\n",
       "      <td>01-11-2014</td>\n",
       "      <td>01-01-2015</td>\n",
       "      <td>80</td>\n",
       "      <td>80</td>\n",
       "      <td>42.0</td>\n",
       "      <td>813.0</td>\n",
       "      <td>N</td>\n",
       "      <td>P</td>\n",
       "      <td>SF</td>\n",
       "      <td>1</td>\n",
       "      <td>P</td>\n",
       "      <td>GA</td>\n",
       "      <td>N</td>\n",
       "      <td>0</td>\n",
       "    </tr>\n",
       "    <tr>\n",
       "      <th>3</th>\n",
       "      <td>1.000070e+11</td>\n",
       "      <td>R</td>\n",
       "      <td>OTHER</td>\n",
       "      <td>4.375</td>\n",
       "      <td>110000</td>\n",
       "      <td>360</td>\n",
       "      <td>01-10-2014</td>\n",
       "      <td>01-12-2014</td>\n",
       "      <td>65</td>\n",
       "      <td>65</td>\n",
       "      <td>28.0</td>\n",
       "      <td>760.0</td>\n",
       "      <td>N</td>\n",
       "      <td>C</td>\n",
       "      <td>SF</td>\n",
       "      <td>1</td>\n",
       "      <td>P</td>\n",
       "      <td>VA</td>\n",
       "      <td>N</td>\n",
       "      <td>0</td>\n",
       "    </tr>\n",
       "    <tr>\n",
       "      <th>4</th>\n",
       "      <td>1.000090e+11</td>\n",
       "      <td>R</td>\n",
       "      <td>QUICKEN LOANS INC.</td>\n",
       "      <td>4.375</td>\n",
       "      <td>325000</td>\n",
       "      <td>348</td>\n",
       "      <td>01-01-2015</td>\n",
       "      <td>01-03-2015</td>\n",
       "      <td>72</td>\n",
       "      <td>72</td>\n",
       "      <td>29.0</td>\n",
       "      <td>734.0</td>\n",
       "      <td>N</td>\n",
       "      <td>R</td>\n",
       "      <td>SF</td>\n",
       "      <td>1</td>\n",
       "      <td>P</td>\n",
       "      <td>CA</td>\n",
       "      <td>N</td>\n",
       "      <td>0</td>\n",
       "    </tr>\n",
       "  </tbody>\n",
       "</table>\n",
       "</div>"
      ],
      "text/plain": [
       "   LOAN IDENTIFIER ORIGINATION CHANNEL             SELLER NAME  \\\n",
       "0     1.000020e+11                   R                   OTHER   \n",
       "1     1.000040e+11                   R  WELLS FARGO BANK, N.A.   \n",
       "2     1.000040e+11                   C  WELLS FARGO BANK, N.A.   \n",
       "3     1.000070e+11                   R                   OTHER   \n",
       "4     1.000090e+11                   R      QUICKEN LOANS INC.   \n",
       "\n",
       "   ORIGINAL INTEREST RATE  ORIGINAL UPB  ORIGINAL LOAN TERM ORIGINATION DATE  \\\n",
       "0                   4.125        345000                 360       01-12-2014   \n",
       "1                   4.125        293000                 312       01-12-2014   \n",
       "2                   3.875        304000                 360       01-11-2014   \n",
       "3                   4.375        110000                 360       01-10-2014   \n",
       "4                   4.375        325000                 348       01-01-2015   \n",
       "\n",
       "  FIRST PAYMENT DATE  ORIGINAL LOAN-TO-VALUE (LTV)  \\\n",
       "0         01-02-2015                            95   \n",
       "1         01-02-2015                            77   \n",
       "2         01-01-2015                            80   \n",
       "3         01-12-2014                            65   \n",
       "4         01-03-2015                            72   \n",
       "\n",
       "   ORIGINAL COMBINED LOAN-TO-VALUE (CLTV)  ORIGINAL DEBT TO INCOME RATIO  \\\n",
       "0                                      95                           32.0   \n",
       "1                                      77                           34.0   \n",
       "2                                      80                           42.0   \n",
       "3                                      65                           28.0   \n",
       "4                                      72                           29.0   \n",
       "\n",
       "   BORROWER CREDIT SCORE AT ORIGINATION FIRST TIME HOME BUYER INDICATOR  \\\n",
       "0                                 652.0                               N   \n",
       "1                                 732.0                               N   \n",
       "2                                 813.0                               N   \n",
       "3                                 760.0                               N   \n",
       "4                                 734.0                               N   \n",
       "\n",
       "  LOAN PURPOSE PROPERTY TYPE  NUMBER OF UNITS OCCUPANCY TYPE PROPERTY STATE  \\\n",
       "0            P            PU                1              P             NC   \n",
       "1            R            PU                1              P             IL   \n",
       "2            P            SF                1              P             GA   \n",
       "3            C            SF                1              P             VA   \n",
       "4            R            SF                1              P             CA   \n",
       "\n",
       "  RELOCATION MORTGAGE INDICATOR  Default Status  \n",
       "0                             N               0  \n",
       "1                             N               0  \n",
       "2                             N               0  \n",
       "3                             N               0  \n",
       "4                             N               0  "
      ]
     },
     "execution_count": 13,
     "metadata": {},
     "output_type": "execute_result"
    }
   ],
   "source": [
    "fan_train.head(5)"
   ]
  },
  {
   "cell_type": "code",
   "execution_count": 14,
   "metadata": {},
   "outputs": [
    {
     "data": {
      "text/plain": [
       "R    0.587746\n",
       "C    0.300722\n",
       "B    0.111533\n",
       "Name: ORIGINATION CHANNEL, dtype: float64"
      ]
     },
     "execution_count": 14,
     "metadata": {},
     "output_type": "execute_result"
    }
   ],
   "source": [
    "fan_train['ORIGINATION CHANNEL'].value_counts()/fan_train.shape[0]"
   ]
  },
  {
   "cell_type": "code",
   "execution_count": 15,
   "metadata": {},
   "outputs": [
    {
     "data": {
      "text/plain": [
       "N    0.837661\n",
       "Y    0.162339\n",
       "Name: FIRST TIME HOME BUYER INDICATOR, dtype: float64"
      ]
     },
     "execution_count": 15,
     "metadata": {},
     "output_type": "execute_result"
    }
   ],
   "source": [
    "fan_train['FIRST TIME HOME BUYER INDICATOR'].value_counts()/fan_train.shape[0]"
   ]
  },
  {
   "cell_type": "code",
   "execution_count": 16,
   "metadata": {},
   "outputs": [
    {
     "data": {
      "text/plain": [
       "OTHER                                                                   0.554836\n",
       "WELLS FARGO BANK, N.A.                                                  0.130786\n",
       "QUICKEN LOANS INC.                                                      0.086929\n",
       "JPMORGAN CHASE BANK, NATIONAL ASSOCIATION                               0.037246\n",
       "FLAGSTAR BANK, FSB                                                      0.026600\n",
       "DITECH FINANCIAL LLC                                                    0.022736\n",
       "FRANKLIN AMERICAN MORTGAGE COMPANY                                      0.018254\n",
       "SUNTRUST MORTGAGE INC.                                                  0.017259\n",
       "STEARNS LENDING, LLC                                                    0.016219\n",
       "FREEDOM MORTGAGE CORP.                                                  0.016090\n",
       "NATIONSTAR MORTGAGE, LLC                                                0.014752\n",
       "CITIMORTGAGE, INC.                                                      0.014695\n",
       "UNITED SHORE FINANCIAL SERVICES, LLC D/B/A UNITED WHOLESALE MORTGAGE    0.011729\n",
       "PENNYMAC CORP.                                                          0.010826\n",
       "LOANDEPOT.COM, LLC                                                      0.010627\n",
       "IMPAC MORTGAGE CORP.                                                    0.010416\n",
       "Name: SELLER NAME, dtype: float64"
      ]
     },
     "execution_count": 16,
     "metadata": {},
     "output_type": "execute_result"
    }
   ],
   "source": [
    "fan_train['SELLER NAME'].value_counts()/fan_train.shape[0]"
   ]
  },
  {
   "cell_type": "code",
   "execution_count": 17,
   "metadata": {},
   "outputs": [
    {
     "data": {
      "text/plain": [
       "P    0.419845\n",
       "R    0.356372\n",
       "C    0.223783\n",
       "Name: LOAN PURPOSE, dtype: float64"
      ]
     },
     "execution_count": 17,
     "metadata": {},
     "output_type": "execute_result"
    }
   ],
   "source": [
    "fan_train['LOAN PURPOSE'].value_counts()/fan_train.shape[0]"
   ]
  },
  {
   "cell_type": "code",
   "execution_count": 18,
   "metadata": {},
   "outputs": [
    {
     "data": {
      "text/plain": [
       "SF    0.627480\n",
       "PU    0.270998\n",
       "CO    0.092202\n",
       "MH    0.005058\n",
       "CP    0.004263\n",
       "Name: PROPERTY TYPE, dtype: float64"
      ]
     },
     "execution_count": 18,
     "metadata": {},
     "output_type": "execute_result"
    }
   ],
   "source": [
    "fan_train['PROPERTY TYPE'].value_counts()/fan_train.shape[0]"
   ]
  },
  {
   "cell_type": "code",
   "execution_count": 19,
   "metadata": {},
   "outputs": [
    {
     "data": {
      "text/plain": [
       "P    0.866118\n",
       "I    0.094150\n",
       "S    0.039732\n",
       "Name: OCCUPANCY TYPE, dtype: float64"
      ]
     },
     "execution_count": 19,
     "metadata": {},
     "output_type": "execute_result"
    }
   ],
   "source": [
    "fan_train['OCCUPANCY TYPE'].value_counts()/fan_train.shape[0]"
   ]
  },
  {
   "cell_type": "code",
   "execution_count": 20,
   "metadata": {
    "scrolled": true
   },
   "outputs": [
    {
     "data": {
      "text/plain": [
       "CA    0.192246\n",
       "TX    0.078543\n",
       "FL    0.052981\n",
       "IL    0.042560\n",
       "CO    0.036982\n",
       "WA    0.031768\n",
       "MI    0.030991\n",
       "AZ    0.029312\n",
       "NY    0.028658\n",
       "PA    0.027125\n",
       "VA    0.026594\n",
       "NC    0.025489\n",
       "GA    0.025335\n",
       "NJ    0.025319\n",
       "MA    0.023610\n",
       "WI    0.023060\n",
       "OH    0.022122\n",
       "MN    0.021838\n",
       "MD    0.019299\n",
       "OR    0.018382\n",
       "UT    0.017090\n",
       "MO    0.016849\n",
       "TN    0.015829\n",
       "IN    0.015387\n",
       "SC    0.013359\n",
       "NV    0.012607\n",
       "IA    0.010322\n",
       "LA    0.010022\n",
       "AL    0.009832\n",
       "OK    0.008791\n",
       "CT    0.007813\n",
       "KY    0.007657\n",
       "ID    0.007196\n",
       "NE    0.006614\n",
       "KS    0.005567\n",
       "NM    0.005189\n",
       "AR    0.004957\n",
       "MS    0.004240\n",
       "HI    0.003903\n",
       "MT    0.003775\n",
       "NH    0.003598\n",
       "DE    0.003406\n",
       "SD    0.003206\n",
       "PR    0.002954\n",
       "DC    0.002801\n",
       "ND    0.002564\n",
       "WY    0.002457\n",
       "RI    0.002404\n",
       "ME    0.002104\n",
       "WV    0.002005\n",
       "AK    0.001799\n",
       "VT    0.001407\n",
       "VI    0.000062\n",
       "GU    0.000023\n",
       "Name: PROPERTY STATE, dtype: float64"
      ]
     },
     "execution_count": 20,
     "metadata": {},
     "output_type": "execute_result"
    }
   ],
   "source": [
    "fan_train['PROPERTY STATE'].value_counts()/fan_train.shape[0]"
   ]
  },
  {
   "cell_type": "code",
   "execution_count": 21,
   "metadata": {},
   "outputs": [
    {
     "data": {
      "text/plain": [
       "N    0.994044\n",
       "Y    0.005956\n",
       "Name: RELOCATION MORTGAGE INDICATOR, dtype: float64"
      ]
     },
     "execution_count": 21,
     "metadata": {},
     "output_type": "execute_result"
    }
   ],
   "source": [
    "fan_train['RELOCATION MORTGAGE INDICATOR'].value_counts()/fan_train.shape[0]"
   ]
  },
  {
   "cell_type": "code",
   "execution_count": 22,
   "metadata": {},
   "outputs": [
    {
     "data": {
      "text/plain": [
       "0    0.99254\n",
       "1    0.00746\n",
       "Name: Default Status, dtype: float64"
      ]
     },
     "execution_count": 22,
     "metadata": {},
     "output_type": "execute_result"
    }
   ],
   "source": [
    "fan_train['Default Status'].value_counts()/fan_train.shape[0]"
   ]
  },
  {
   "cell_type": "markdown",
   "metadata": {},
   "source": [
    " Continuous Variable"
   ]
  },
  {
   "cell_type": "code",
   "execution_count": 23,
   "metadata": {},
   "outputs": [
    {
     "data": {
      "text/html": [
       "<div>\n",
       "<style scoped>\n",
       "    .dataframe tbody tr th:only-of-type {\n",
       "        vertical-align: middle;\n",
       "    }\n",
       "\n",
       "    .dataframe tbody tr th {\n",
       "        vertical-align: top;\n",
       "    }\n",
       "\n",
       "    .dataframe thead th {\n",
       "        text-align: right;\n",
       "    }\n",
       "</style>\n",
       "<table border=\"1\" class=\"dataframe\">\n",
       "  <thead>\n",
       "    <tr style=\"text-align: right;\">\n",
       "      <th></th>\n",
       "      <th>LOAN IDENTIFIER</th>\n",
       "      <th>ORIGINAL INTEREST RATE</th>\n",
       "      <th>ORIGINAL UPB</th>\n",
       "      <th>ORIGINAL LOAN TERM</th>\n",
       "      <th>ORIGINAL LOAN-TO-VALUE (LTV)</th>\n",
       "      <th>ORIGINAL COMBINED LOAN-TO-VALUE (CLTV)</th>\n",
       "      <th>ORIGINAL DEBT TO INCOME RATIO</th>\n",
       "      <th>BORROWER CREDIT SCORE AT ORIGINATION</th>\n",
       "      <th>NUMBER OF UNITS</th>\n",
       "      <th>Default Status</th>\n",
       "    </tr>\n",
       "  </thead>\n",
       "  <tbody>\n",
       "    <tr>\n",
       "      <th>count</th>\n",
       "      <td>4.363470e+05</td>\n",
       "      <td>436347.000000</td>\n",
       "      <td>4.363470e+05</td>\n",
       "      <td>436347.000000</td>\n",
       "      <td>436347.000000</td>\n",
       "      <td>436347.000000</td>\n",
       "      <td>436244.000000</td>\n",
       "      <td>436192.000000</td>\n",
       "      <td>436347.000000</td>\n",
       "      <td>436347.000000</td>\n",
       "    </tr>\n",
       "    <tr>\n",
       "      <th>mean</th>\n",
       "      <td>5.506554e+11</td>\n",
       "      <td>3.997689</td>\n",
       "      <td>2.298115e+05</td>\n",
       "      <td>316.810039</td>\n",
       "      <td>74.038570</td>\n",
       "      <td>74.719739</td>\n",
       "      <td>33.323450</td>\n",
       "      <td>754.253356</td>\n",
       "      <td>1.035827</td>\n",
       "      <td>0.007460</td>\n",
       "    </tr>\n",
       "    <tr>\n",
       "      <th>std</th>\n",
       "      <td>2.594856e+11</td>\n",
       "      <td>0.478863</td>\n",
       "      <td>1.188393e+05</td>\n",
       "      <td>76.706949</td>\n",
       "      <td>16.293784</td>\n",
       "      <td>16.310479</td>\n",
       "      <td>8.902985</td>\n",
       "      <td>46.228860</td>\n",
       "      <td>0.257164</td>\n",
       "      <td>0.086047</td>\n",
       "    </tr>\n",
       "    <tr>\n",
       "      <th>min</th>\n",
       "      <td>1.000020e+11</td>\n",
       "      <td>2.250000</td>\n",
       "      <td>1.000000e+04</td>\n",
       "      <td>60.000000</td>\n",
       "      <td>3.000000</td>\n",
       "      <td>3.000000</td>\n",
       "      <td>1.000000</td>\n",
       "      <td>471.000000</td>\n",
       "      <td>1.000000</td>\n",
       "      <td>0.000000</td>\n",
       "    </tr>\n",
       "    <tr>\n",
       "      <th>25%</th>\n",
       "      <td>3.257770e+11</td>\n",
       "      <td>3.750000</td>\n",
       "      <td>1.370000e+05</td>\n",
       "      <td>300.000000</td>\n",
       "      <td>66.000000</td>\n",
       "      <td>67.000000</td>\n",
       "      <td>27.000000</td>\n",
       "      <td>723.000000</td>\n",
       "      <td>1.000000</td>\n",
       "      <td>0.000000</td>\n",
       "    </tr>\n",
       "    <tr>\n",
       "      <th>50%</th>\n",
       "      <td>5.514690e+11</td>\n",
       "      <td>4.000000</td>\n",
       "      <td>2.090000e+05</td>\n",
       "      <td>360.000000</td>\n",
       "      <td>78.000000</td>\n",
       "      <td>79.000000</td>\n",
       "      <td>34.000000</td>\n",
       "      <td>766.000000</td>\n",
       "      <td>1.000000</td>\n",
       "      <td>0.000000</td>\n",
       "    </tr>\n",
       "    <tr>\n",
       "      <th>75%</th>\n",
       "      <td>7.753805e+11</td>\n",
       "      <td>4.250000</td>\n",
       "      <td>3.060000e+05</td>\n",
       "      <td>360.000000</td>\n",
       "      <td>84.000000</td>\n",
       "      <td>85.000000</td>\n",
       "      <td>41.000000</td>\n",
       "      <td>792.000000</td>\n",
       "      <td>1.000000</td>\n",
       "      <td>0.000000</td>\n",
       "    </tr>\n",
       "    <tr>\n",
       "      <th>max</th>\n",
       "      <td>9.999960e+11</td>\n",
       "      <td>6.125000</td>\n",
       "      <td>1.203000e+06</td>\n",
       "      <td>360.000000</td>\n",
       "      <td>97.000000</td>\n",
       "      <td>107.000000</td>\n",
       "      <td>51.000000</td>\n",
       "      <td>839.000000</td>\n",
       "      <td>4.000000</td>\n",
       "      <td>1.000000</td>\n",
       "    </tr>\n",
       "  </tbody>\n",
       "</table>\n",
       "</div>"
      ],
      "text/plain": [
       "       LOAN IDENTIFIER  ORIGINAL INTEREST RATE  ORIGINAL UPB  \\\n",
       "count     4.363470e+05           436347.000000  4.363470e+05   \n",
       "mean      5.506554e+11                3.997689  2.298115e+05   \n",
       "std       2.594856e+11                0.478863  1.188393e+05   \n",
       "min       1.000020e+11                2.250000  1.000000e+04   \n",
       "25%       3.257770e+11                3.750000  1.370000e+05   \n",
       "50%       5.514690e+11                4.000000  2.090000e+05   \n",
       "75%       7.753805e+11                4.250000  3.060000e+05   \n",
       "max       9.999960e+11                6.125000  1.203000e+06   \n",
       "\n",
       "       ORIGINAL LOAN TERM  ORIGINAL LOAN-TO-VALUE (LTV)  \\\n",
       "count       436347.000000                 436347.000000   \n",
       "mean           316.810039                     74.038570   \n",
       "std             76.706949                     16.293784   \n",
       "min             60.000000                      3.000000   \n",
       "25%            300.000000                     66.000000   \n",
       "50%            360.000000                     78.000000   \n",
       "75%            360.000000                     84.000000   \n",
       "max            360.000000                     97.000000   \n",
       "\n",
       "       ORIGINAL COMBINED LOAN-TO-VALUE (CLTV)  ORIGINAL DEBT TO INCOME RATIO  \\\n",
       "count                           436347.000000                  436244.000000   \n",
       "mean                                74.719739                      33.323450   \n",
       "std                                 16.310479                       8.902985   \n",
       "min                                  3.000000                       1.000000   \n",
       "25%                                 67.000000                      27.000000   \n",
       "50%                                 79.000000                      34.000000   \n",
       "75%                                 85.000000                      41.000000   \n",
       "max                                107.000000                      51.000000   \n",
       "\n",
       "       BORROWER CREDIT SCORE AT ORIGINATION  NUMBER OF UNITS  Default Status  \n",
       "count                         436192.000000    436347.000000   436347.000000  \n",
       "mean                             754.253356         1.035827        0.007460  \n",
       "std                               46.228860         0.257164        0.086047  \n",
       "min                              471.000000         1.000000        0.000000  \n",
       "25%                              723.000000         1.000000        0.000000  \n",
       "50%                              766.000000         1.000000        0.000000  \n",
       "75%                              792.000000         1.000000        0.000000  \n",
       "max                              839.000000         4.000000        1.000000  "
      ]
     },
     "execution_count": 23,
     "metadata": {},
     "output_type": "execute_result"
    }
   ],
   "source": [
    "fan_train.describe()"
   ]
  },
  {
   "cell_type": "code",
   "execution_count": 24,
   "metadata": {},
   "outputs": [
    {
     "data": {
      "text/plain": [
       "<matplotlib.axes._subplots.AxesSubplot at 0x981bbe0>"
      ]
     },
     "execution_count": 24,
     "metadata": {},
     "output_type": "execute_result"
    }
   ],
   "source": [
    "fan_train.plot('ORIGINAL LOAN-TO-VALUE (LTV)','ORIGINAL LOAN TERM',kind='scatter')"
   ]
  },
  {
   "cell_type": "code",
   "execution_count": 25,
   "metadata": {},
   "outputs": [
    {
     "data": {
      "text/plain": [
       "<matplotlib.axes._subplots.AxesSubplot at 0xa0f0eb8>"
      ]
     },
     "execution_count": 25,
     "metadata": {},
     "output_type": "execute_result"
    },
    {
     "data": {
      "image/png": "[encoded data removed]",
      "text/plain": [
       "<Figure size 432x288 with 1 Axes>"
      ]
     },
     "metadata": {
      "needs_background": "light"
     },
     "output_type": "display_data"
    }
   ],
   "source": [
    "fan_train.plot('ORIGINAL DEBT TO INCOME RATIO','ORIGINAL LOAN TERM',kind='scatter')"
   ]
  },
  {
   "cell_type": "code",
   "execution_count": 26,
   "metadata": {},
   "outputs": [
    {
     "data": {
      "text/plain": [
       "<matplotlib.axes._subplots.AxesSubplot at 0xa4ecf60>"
      ]
     },
     "execution_count": 26,
     "metadata": {},
     "output_type": "execute_result"
    },
    {
     "data": {
      "image/png": "[encoded data removed]",
      "text/plain": [
       "<Figure size 432x288 with 1 Axes>"
      ]
     },
     "metadata": {
      "needs_background": "light"
     },
     "output_type": "display_data"
    }
   ],
   "source": [
    "fan_train.plot('ORIGINAL UPB','ORIGINAL LOAN TERM',kind='scatter')"
   ]
  },
  {
   "cell_type": "code",
   "execution_count": 27,
   "metadata": {},
   "outputs": [
    {
     "data": {
      "text/plain": [
       "<matplotlib.axes._subplots.AxesSubplot at 0xa56ebe0>"
      ]
     },
     "execution_count": 27,
     "metadata": {},
     "output_type": "execute_result"
    },
    {
     "data": {
      "image/png": "[encoded data removed]",
      "text/plain": [
       "<Figure size 432x288 with 1 Axes>"
      ]
     },
     "metadata": {
      "needs_background": "light"
     },
     "output_type": "display_data"
    }
   ],
   "source": [
    "fan_train.plot('ORIGINAL INTEREST RATE','ORIGINAL LOAN TERM',kind='scatter')"
   ]
  },
  {
   "cell_type": "code",
   "execution_count": 28,
   "metadata": {},
   "outputs": [
    {
     "data": {
      "text/plain": [
       "<matplotlib.axes._subplots.AxesSubplot at 0xfd12828>"
      ]
     },
     "execution_count": 28,
     "metadata": {},
     "output_type": "execute_result"
    },
    {
     "data": {
      "image/png": "[encoded data removed]",
      "text/plain": [
       "<Figure size 432x288 with 1 Axes>"
      ]
     },
     "metadata": {
      "needs_background": "light"
     },
     "output_type": "display_data"
    }
   ],
   "source": [
    "fan_train.plot('ORIGINAL UPB','ORIGINAL DEBT TO INCOME RATIO',kind='scatter')"
   ]
  },
  {
   "cell_type": "code",
   "execution_count": 1,
   "metadata": {},
   "outputs": [
    {
     "ename": "SyntaxError",
     "evalue": "invalid syntax (<ipython-input-1-059e197c54df>, line 1)",
     "output_type": "error",
     "traceback": [
      "\u001b[1;36m  File \u001b[1;32m\"<ipython-input-1-059e197c54df>\"\u001b[1;36m, line \u001b[1;32m1\u001b[0m\n\u001b[1;33m    ct=pd.crosstab(fan_train['PROPERTY TYPE'],fan_train.Default Status[fan_train.Default Status=='1'],margins=True)\u001b[0m\n\u001b[1;37m                                                                     ^\u001b[0m\n\u001b[1;31mSyntaxError\u001b[0m\u001b[1;31m:\u001b[0m invalid syntax\n"
     ]
    }
   ],
   "source": [
    "ct=pd.crosstab(fan_train['PROPERTY TYPE'],fan_train.Default Status[fan_train.Default Status=='1'],margins=True)\n",
    "ct"
   ]
  },
  {
   "cell_type": "code",
   "execution_count": 30,
   "metadata": {},
   "outputs": [],
   "source": [
    "import matplotlib.pyplot as plt\n",
    "import seaborn as sn\n",
    "%matplotlib inline"
   ]
  },
  {
   "cell_type": "code",
   "execution_count": 31,
   "metadata": {},
   "outputs": [
    {
     "data": {
      "text/plain": [
       "<matplotlib.axes._subplots.AxesSubplot at 0x116da1d0>"
      ]
     },
     "execution_count": 31,
     "metadata": {},
     "output_type": "execute_result"
    },
    {
     "data": {
      "image/png": "[encoded data removed]",
      "text/plain": [
       "<Figure size 432x288 with 1 Axes>"
      ]
     },
     "metadata": {
      "needs_background": "light"
     },
     "output_type": "display_data"
    }
   ],
   "source": [
    "ct.iloc[:-1,:-1].plot(kind='bar', stacked=True, color=['red','blue'], grid=False)"
   ]
  },
  {
   "cell_type": "code",
   "execution_count": 32,
   "metadata": {},
   "outputs": [
    {
     "data": {
      "text/plain": [
       "<matplotlib.axes._subplots.AxesSubplot at 0x11757b00>"
      ]
     },
     "execution_count": 32,
     "metadata": {},
     "output_type": "execute_result"
    },
    {
     "data": {
      "image/png": "[encoded data removed]",
      "text/plain": [
       "<Figure size 432x288 with 1 Axes>"
      ]
     },
     "metadata": {
      "needs_background": "light"
     },
     "output_type": "display_data"
    }
   ],
   "source": [
    "def percConvert(ser):\n",
    "    return ser/float(ser[-1])\n",
    "ctprop=ct.apply(percConvert,axis=1)\n",
    "ctprop.iloc[:-1,:-1].plot(kind='bar', stacked=True, color=['red','blue'], grid=False)"
   ]
  },
  {
   "cell_type": "code",
   "execution_count": 33,
   "metadata": {},
   "outputs": [
    {
     "data": {
      "text/html": [
       "<div>\n",
       "<style scoped>\n",
       "    .dataframe tbody tr th:only-of-type {\n",
       "        vertical-align: middle;\n",
       "    }\n",
       "\n",
       "    .dataframe tbody tr th {\n",
       "        vertical-align: top;\n",
       "    }\n",
       "\n",
       "    .dataframe thead th {\n",
       "        text-align: right;\n",
       "    }\n",
       "</style>\n",
       "<table border=\"1\" class=\"dataframe\">\n",
       "  <thead>\n",
       "    <tr style=\"text-align: right;\">\n",
       "      <th>Default Status</th>\n",
       "      <th>0</th>\n",
       "      <th>1</th>\n",
       "      <th>All</th>\n",
       "    </tr>\n",
       "    <tr>\n",
       "      <th>FIRST TIME HOME BUYER INDICATOR</th>\n",
       "      <th></th>\n",
       "      <th></th>\n",
       "      <th></th>\n",
       "    </tr>\n",
       "  </thead>\n",
       "  <tbody>\n",
       "    <tr>\n",
       "      <th>N</th>\n",
       "      <td>363115</td>\n",
       "      <td>2396</td>\n",
       "      <td>365511</td>\n",
       "    </tr>\n",
       "    <tr>\n",
       "      <th>Y</th>\n",
       "      <td>69977</td>\n",
       "      <td>859</td>\n",
       "      <td>70836</td>\n",
       "    </tr>\n",
       "    <tr>\n",
       "      <th>All</th>\n",
       "      <td>433092</td>\n",
       "      <td>3255</td>\n",
       "      <td>436347</td>\n",
       "    </tr>\n",
       "  </tbody>\n",
       "</table>\n",
       "</div>"
      ],
      "text/plain": [
       "Default Status                        0     1     All\n",
       "FIRST TIME HOME BUYER INDICATOR                      \n",
       "N                                363115  2396  365511\n",
       "Y                                 69977   859   70836\n",
       "All                              433092  3255  436347"
      ]
     },
     "execution_count": 33,
     "metadata": {},
     "output_type": "execute_result"
    }
   ],
   "source": [
    "ctfthb=pd.crosstab(fan_train['FIRST TIME HOME BUYER INDICATOR'],fan_train['Default Status'],margins=True)\n",
    "ctfthb"
   ]
  },
  {
   "cell_type": "code",
   "execution_count": 34,
   "metadata": {},
   "outputs": [
    {
     "data": {
      "text/plain": [
       "<matplotlib.axes._subplots.AxesSubplot at 0x117d80f0>"
      ]
     },
     "execution_count": 34,
     "metadata": {},
     "output_type": "execute_result"
    },
    {
     "data": {
      "image/png": "[encoded data removed]",
      "text/plain": [
       "<Figure size 432x288 with 1 Axes>"
      ]
     },
     "metadata": {
      "needs_background": "light"
     },
     "output_type": "display_data"
    }
   ],
   "source": [
    "ctfthbp=ctfthb.apply(percConvert,axis=1)\n",
    "ctfthbp.iloc[:-1,:-1].plot(kind='bar', stacked=True, color=['red','blue'], grid=False)"
   ]
  },
  {
   "cell_type": "code",
   "execution_count": 35,
   "metadata": {},
   "outputs": [
    {
     "data": {
      "text/html": [
       "<div>\n",
       "<style scoped>\n",
       "    .dataframe tbody tr th:only-of-type {\n",
       "        vertical-align: middle;\n",
       "    }\n",
       "\n",
       "    .dataframe tbody tr th {\n",
       "        vertical-align: top;\n",
       "    }\n",
       "\n",
       "    .dataframe thead th {\n",
       "        text-align: right;\n",
       "    }\n",
       "</style>\n",
       "<table border=\"1\" class=\"dataframe\">\n",
       "  <thead>\n",
       "    <tr style=\"text-align: right;\">\n",
       "      <th>Default Status</th>\n",
       "      <th>0</th>\n",
       "      <th>1</th>\n",
       "      <th>All</th>\n",
       "    </tr>\n",
       "    <tr>\n",
       "      <th>SELLER NAME</th>\n",
       "      <th></th>\n",
       "      <th></th>\n",
       "      <th></th>\n",
       "    </tr>\n",
       "  </thead>\n",
       "  <tbody>\n",
       "    <tr>\n",
       "      <th>CITIMORTGAGE, INC.</th>\n",
       "      <td>6385</td>\n",
       "      <td>27</td>\n",
       "      <td>6412</td>\n",
       "    </tr>\n",
       "    <tr>\n",
       "      <th>DITECH FINANCIAL LLC</th>\n",
       "      <td>9835</td>\n",
       "      <td>86</td>\n",
       "      <td>9921</td>\n",
       "    </tr>\n",
       "    <tr>\n",
       "      <th>FLAGSTAR BANK, FSB</th>\n",
       "      <td>11518</td>\n",
       "      <td>89</td>\n",
       "      <td>11607</td>\n",
       "    </tr>\n",
       "    <tr>\n",
       "      <th>FRANKLIN AMERICAN MORTGAGE COMPANY</th>\n",
       "      <td>7888</td>\n",
       "      <td>77</td>\n",
       "      <td>7965</td>\n",
       "    </tr>\n",
       "    <tr>\n",
       "      <th>FREEDOM MORTGAGE CORP.</th>\n",
       "      <td>6983</td>\n",
       "      <td>38</td>\n",
       "      <td>7021</td>\n",
       "    </tr>\n",
       "    <tr>\n",
       "      <th>IMPAC MORTGAGE CORP.</th>\n",
       "      <td>4528</td>\n",
       "      <td>17</td>\n",
       "      <td>4545</td>\n",
       "    </tr>\n",
       "    <tr>\n",
       "      <th>JPMORGAN CHASE BANK, NATIONAL ASSOCIATION</th>\n",
       "      <td>16168</td>\n",
       "      <td>84</td>\n",
       "      <td>16252</td>\n",
       "    </tr>\n",
       "    <tr>\n",
       "      <th>LOANDEPOT.COM, LLC</th>\n",
       "      <td>4597</td>\n",
       "      <td>40</td>\n",
       "      <td>4637</td>\n",
       "    </tr>\n",
       "    <tr>\n",
       "      <th>NATIONSTAR MORTGAGE, LLC</th>\n",
       "      <td>6383</td>\n",
       "      <td>54</td>\n",
       "      <td>6437</td>\n",
       "    </tr>\n",
       "    <tr>\n",
       "      <th>OTHER</th>\n",
       "      <td>240283</td>\n",
       "      <td>1818</td>\n",
       "      <td>242101</td>\n",
       "    </tr>\n",
       "    <tr>\n",
       "      <th>PENNYMAC CORP.</th>\n",
       "      <td>4670</td>\n",
       "      <td>54</td>\n",
       "      <td>4724</td>\n",
       "    </tr>\n",
       "    <tr>\n",
       "      <th>QUICKEN LOANS INC.</th>\n",
       "      <td>37613</td>\n",
       "      <td>318</td>\n",
       "      <td>37931</td>\n",
       "    </tr>\n",
       "    <tr>\n",
       "      <th>STEARNS LENDING, LLC</th>\n",
       "      <td>7016</td>\n",
       "      <td>61</td>\n",
       "      <td>7077</td>\n",
       "    </tr>\n",
       "    <tr>\n",
       "      <th>SUNTRUST MORTGAGE INC.</th>\n",
       "      <td>7488</td>\n",
       "      <td>43</td>\n",
       "      <td>7531</td>\n",
       "    </tr>\n",
       "    <tr>\n",
       "      <th>UNITED SHORE FINANCIAL SERVICES, LLC D/B/A UNITED WHOLESALE MORTGAGE</th>\n",
       "      <td>5089</td>\n",
       "      <td>29</td>\n",
       "      <td>5118</td>\n",
       "    </tr>\n",
       "    <tr>\n",
       "      <th>WELLS FARGO BANK, N.A.</th>\n",
       "      <td>56648</td>\n",
       "      <td>420</td>\n",
       "      <td>57068</td>\n",
       "    </tr>\n",
       "    <tr>\n",
       "      <th>All</th>\n",
       "      <td>433092</td>\n",
       "      <td>3255</td>\n",
       "      <td>436347</td>\n",
       "    </tr>\n",
       "  </tbody>\n",
       "</table>\n",
       "</div>"
      ],
      "text/plain": [
       "Default Status                                           0     1     All\n",
       "SELLER NAME                                                             \n",
       "CITIMORTGAGE, INC.                                    6385    27    6412\n",
       "DITECH FINANCIAL LLC                                  9835    86    9921\n",
       "FLAGSTAR BANK, FSB                                   11518    89   11607\n",
       "FRANKLIN AMERICAN MORTGAGE COMPANY                    7888    77    7965\n",
       "FREEDOM MORTGAGE CORP.                                6983    38    7021\n",
       "IMPAC MORTGAGE CORP.                                  4528    17    4545\n",
       "JPMORGAN CHASE BANK, NATIONAL ASSOCIATION            16168    84   16252\n",
       "LOANDEPOT.COM, LLC                                    4597    40    4637\n",
       "NATIONSTAR MORTGAGE, LLC                              6383    54    6437\n",
       "OTHER                                               240283  1818  242101\n",
       "PENNYMAC CORP.                                        4670    54    4724\n",
       "QUICKEN LOANS INC.                                   37613   318   37931\n",
       "STEARNS LENDING, LLC                                  7016    61    7077\n",
       "SUNTRUST MORTGAGE INC.                                7488    43    7531\n",
       "UNITED SHORE FINANCIAL SERVICES, LLC D/B/A UNIT...    5089    29    5118\n",
       "WELLS FARGO BANK, N.A.                               56648   420   57068\n",
       "All                                                 433092  3255  436347"
      ]
     },
     "execution_count": 35,
     "metadata": {},
     "output_type": "execute_result"
    }
   ],
   "source": [
    "ctseller=pd.crosstab(fan_train['SELLER NAME'],fan_train['Default Status'],margins=True)\n",
    "ctseller"
   ]
  },
  {
   "cell_type": "code",
   "execution_count": 36,
   "metadata": {},
   "outputs": [
    {
     "data": {
      "text/plain": [
       "<matplotlib.axes._subplots.AxesSubplot at 0x11826748>"
      ]
     },
     "execution_count": 36,
     "metadata": {},
     "output_type": "execute_result"
    },
    {
     "data": {
      "image/png": "[encoded data removed]",
      "text/plain": [
       "<Figure size 432x288 with 1 Axes>"
      ]
     },
     "metadata": {
      "needs_background": "light"
     },
     "output_type": "display_data"
    }
   ],
   "source": [
    "ctsellerp=ctseller.apply(percConvert,axis=1)\n",
    "ctsellerp.iloc[:-1,:-1].plot(kind='bar', stacked=True, color=['red','blue'], grid=False)"
   ]
  },
  {
   "cell_type": "code",
   "execution_count": 37,
   "metadata": {},
   "outputs": [
    {
     "data": {
      "text/plain": [
       "<matplotlib.axes._subplots.AxesSubplot at 0xfd56ef0>"
      ]
     },
     "execution_count": 37,
     "metadata": {},
     "output_type": "execute_result"
    },
    {
     "data": {
      "image/png": "[encoded data removed]",
      "text/plain": [
       "<Figure size 432x288 with 1 Axes>"
      ]
     },
     "metadata": {
      "needs_background": "light"
     },
     "output_type": "display_data"
    }
   ],
   "source": [
    "fan_train.boxplot(column='ORIGINAL LOAN TERM',by='Default Status')"
   ]
  },
  {
   "cell_type": "code",
   "execution_count": 38,
   "metadata": {},
   "outputs": [
    {
     "data": {
      "text/plain": [
       "<matplotlib.axes._subplots.AxesSubplot at 0x11920278>"
      ]
     },
     "execution_count": 38,
     "metadata": {},
     "output_type": "execute_result"
    },
    {
     "data": {
      "image/png": "[encoded data removed]",
      "text/plain": [
       "<Figure size 432x288 with 1 Axes>"
      ]
     },
     "metadata": {
      "needs_background": "light"
     },
     "output_type": "display_data"
    }
   ],
   "source": [
    "fan_train.boxplot(column='ORIGINAL LOAN-TO-VALUE (LTV)',by='Default Status')"
   ]
  },
  {
   "cell_type": "code",
   "execution_count": 39,
   "metadata": {},
   "outputs": [
    {
     "data": {
      "text/plain": [
       "<matplotlib.axes._subplots.AxesSubplot at 0x1199d198>"
      ]
     },
     "execution_count": 39,
     "metadata": {},
     "output_type": "execute_result"
    },
    {
     "data": {
      "image/png": "[encoded data removed]",
      "text/plain": [
       "<Figure size 432x288 with 1 Axes>"
      ]
     },
     "metadata": {
      "needs_background": "light"
     },
     "output_type": "display_data"
    }
   ],
   "source": [
    "fan_train.boxplot(column='ORIGINAL COMBINED LOAN-TO-VALUE (CLTV)',by='Default Status')"
   ]
  },
  {
   "cell_type": "code",
   "execution_count": 40,
   "metadata": {},
   "outputs": [
    {
     "data": {
      "text/plain": [
       "<matplotlib.axes._subplots.AxesSubplot at 0x11b85f98>"
      ]
     },
     "execution_count": 40,
     "metadata": {},
     "output_type": "execute_result"
    },
    {
     "data": {
      "image/png": "[encoded data removed]",
      "text/plain": [
       "<Figure size 432x288 with 1 Axes>"
      ]
     },
     "metadata": {
      "needs_background": "light"
     },
     "output_type": "display_data"
    }
   ],
   "source": [
    "fan_train.boxplot(column='ORIGINAL DEBT TO INCOME RATIO',by='Default Status')"
   ]
  },
  {
   "cell_type": "markdown",
   "metadata": {},
   "source": [
    "Missing Value Treatment "
   ]
  },
  {
   "cell_type": "code",
   "execution_count": 41,
   "metadata": {
    "scrolled": true
   },
   "outputs": [
    {
     "data": {
      "text/plain": [
       "LOAN IDENTIFIER                             0\n",
       "ORIGINATION CHANNEL                         0\n",
       "SELLER NAME                                 0\n",
       "ORIGINAL INTEREST RATE                      0\n",
       "ORIGINAL UPB                                0\n",
       "ORIGINAL LOAN TERM                          0\n",
       "ORIGINATION DATE                            0\n",
       "FIRST PAYMENT DATE                          0\n",
       "ORIGINAL LOAN-TO-VALUE (LTV)                0\n",
       "ORIGINAL COMBINED LOAN-TO-VALUE (CLTV)      0\n",
       "ORIGINAL DEBT TO INCOME RATIO             103\n",
       "BORROWER CREDIT SCORE AT ORIGINATION      155\n",
       "FIRST TIME HOME BUYER INDICATOR             0\n",
       "LOAN PURPOSE                                0\n",
       "PROPERTY TYPE                               0\n",
       "NUMBER OF UNITS                             0\n",
       "OCCUPANCY TYPE                              0\n",
       "PROPERTY STATE                              0\n",
       "RELOCATION MORTGAGE INDICATOR               0\n",
       "Default Status                              0\n",
       "dtype: int64"
      ]
     },
     "execution_count": 41,
     "metadata": {},
     "output_type": "execute_result"
    }
   ],
   "source": [
    "fan_train.apply(lambda x: sum(x.isnull()))"
   ]
  },
  {
   "cell_type": "code",
   "execution_count": 42,
   "metadata": {},
   "outputs": [],
   "source": [
    "Mean=fan_train['ORIGINAL DEBT TO INCOME RATIO'].mean()"
   ]
  },
  {
   "cell_type": "code",
   "execution_count": 43,
   "metadata": {},
   "outputs": [
    {
     "data": {
      "text/plain": [
       "34.0"
      ]
     },
     "execution_count": 43,
     "metadata": {},
     "output_type": "execute_result"
    }
   ],
   "source": [
    "fan_train['ORIGINAL DEBT TO INCOME RATIO'].median()"
   ]
  },
  {
   "cell_type": "code",
   "execution_count": 44,
   "metadata": {},
   "outputs": [
    {
     "data": {
      "text/plain": [
       "0    44.0\n",
       "dtype: float64"
      ]
     },
     "execution_count": 44,
     "metadata": {},
     "output_type": "execute_result"
    }
   ],
   "source": [
    "fan_train['ORIGINAL DEBT TO INCOME RATIO'].mode()"
   ]
  },
  {
   "cell_type": "code",
   "execution_count": 45,
   "metadata": {},
   "outputs": [],
   "source": [
    "fan_train['ORIGINAL DEBT TO INCOME RATIO']=fan_train['ORIGINAL DEBT TO INCOME RATIO'].fillna(Mean)"
   ]
  },
  {
   "cell_type": "code",
   "execution_count": 46,
   "metadata": {},
   "outputs": [
    {
     "data": {
      "text/plain": [
       "754.2533563201526"
      ]
     },
     "execution_count": 46,
     "metadata": {},
     "output_type": "execute_result"
    }
   ],
   "source": [
    "meanb=fan_train['BORROWER CREDIT SCORE AT ORIGINATION'].mean()\n",
    "meanb"
   ]
  },
  {
   "cell_type": "code",
   "execution_count": 47,
   "metadata": {},
   "outputs": [
    {
     "data": {
      "text/plain": [
       "766.0"
      ]
     },
     "execution_count": 47,
     "metadata": {},
     "output_type": "execute_result"
    }
   ],
   "source": [
    "fan_train['BORROWER CREDIT SCORE AT ORIGINATION'].median()"
   ]
  },
  {
   "cell_type": "code",
   "execution_count": 48,
   "metadata": {},
   "outputs": [
    {
     "data": {
      "text/plain": [
       "0    801.0\n",
       "dtype: float64"
      ]
     },
     "execution_count": 48,
     "metadata": {},
     "output_type": "execute_result"
    }
   ],
   "source": [
    "fan_train['BORROWER CREDIT SCORE AT ORIGINATION'].mode()"
   ]
  },
  {
   "cell_type": "code",
   "execution_count": 49,
   "metadata": {},
   "outputs": [],
   "source": [
    "fan_train['BORROWER CREDIT SCORE AT ORIGINATION']=fan_train['BORROWER CREDIT SCORE AT ORIGINATION'].fillna(meanb)"
   ]
  },
  {
   "cell_type": "code",
   "execution_count": 50,
   "metadata": {},
   "outputs": [
    {
     "data": {
      "text/plain": [
       "LOAN IDENTIFIER                           0\n",
       "ORIGINATION CHANNEL                       0\n",
       "SELLER NAME                               0\n",
       "ORIGINAL INTEREST RATE                    0\n",
       "ORIGINAL UPB                              0\n",
       "ORIGINAL LOAN TERM                        0\n",
       "ORIGINATION DATE                          0\n",
       "FIRST PAYMENT DATE                        0\n",
       "ORIGINAL LOAN-TO-VALUE (LTV)              0\n",
       "ORIGINAL COMBINED LOAN-TO-VALUE (CLTV)    0\n",
       "ORIGINAL DEBT TO INCOME RATIO             0\n",
       "BORROWER CREDIT SCORE AT ORIGINATION      0\n",
       "FIRST TIME HOME BUYER INDICATOR           0\n",
       "LOAN PURPOSE                              0\n",
       "PROPERTY TYPE                             0\n",
       "NUMBER OF UNITS                           0\n",
       "OCCUPANCY TYPE                            0\n",
       "PROPERTY STATE                            0\n",
       "RELOCATION MORTGAGE INDICATOR             0\n",
       "Default Status                            0\n",
       "dtype: int64"
      ]
     },
     "execution_count": 50,
     "metadata": {},
     "output_type": "execute_result"
    }
   ],
   "source": [
    "fan_train.apply(lambda x: sum(x.isnull()))"
   ]
  },
  {
   "cell_type": "markdown",
   "metadata": {},
   "source": [
    "Outlier treatment"
   ]
  },
  {
   "cell_type": "code",
   "execution_count": 51,
   "metadata": {},
   "outputs": [
    {
     "data": {
      "text/plain": [
       "<matplotlib.axes._subplots.AxesSubplot at 0x11bda6d8>"
      ]
     },
     "execution_count": 51,
     "metadata": {},
     "output_type": "execute_result"
    },
    {
     "data": {
      "image/png": "[encoded data removed]",
      "text/plain": [
       "<Figure size 432x288 with 1 Axes>"
      ]
     },
     "metadata": {
      "needs_background": "light"
     },
     "output_type": "display_data"
    }
   ],
   "source": [
    "fan_train.plot('LOAN IDENTIFIER','ORIGINAL INTEREST RATE',kind='scatter')"
   ]
  },
  {
   "cell_type": "markdown",
   "metadata": {},
   "source": [
    "few loan identifier having interest rate more than 5.5 percent"
   ]
  },
  {
   "cell_type": "code",
   "execution_count": 52,
   "metadata": {},
   "outputs": [
    {
     "data": {
      "text/plain": [
       "<matplotlib.axes._subplots.AxesSubplot at 0x11c18240>"
      ]
     },
     "execution_count": 52,
     "metadata": {},
     "output_type": "execute_result"
    },
    {
     "data": {
      "image/png": "[encoded data removed]",
      "text/plain": [
       "<Figure size 432x288 with 1 Axes>"
      ]
     },
     "metadata": {
      "needs_background": "light"
     },
     "output_type": "display_data"
    }
   ],
   "source": [
    "fan_train.plot('LOAN IDENTIFIER','ORIGINAL LOAN-TO-VALUE (LTV)',kind='scatter')"
   ]
  },
  {
   "cell_type": "code",
   "execution_count": 53,
   "metadata": {},
   "outputs": [
    {
     "data": {
      "text/plain": [
       "<matplotlib.axes._subplots.AxesSubplot at 0x1e0ec9e8>"
      ]
     },
     "execution_count": 53,
     "metadata": {},
     "output_type": "execute_result"
    },
    {
     "data": {
      "image/png": "[encoded data removed]",
      "text/plain": [
       "<Figure size 432x288 with 1 Axes>"
      ]
     },
     "metadata": {
      "needs_background": "light"
     },
     "output_type": "display_data"
    }
   ],
   "source": [
    "fan_train.plot('LOAN IDENTIFIER','ORIGINAL DEBT TO INCOME RATIO',kind='scatter')"
   ]
  },
  {
   "cell_type": "markdown",
   "metadata": {},
   "source": [
    "Variable Transformation"
   ]
  },
  {
   "cell_type": "code",
   "execution_count": 54,
   "metadata": {},
   "outputs": [
    {
     "data": {
      "text/plain": [
       "SF    0.627480\n",
       "PU    0.270998\n",
       "CO    0.092202\n",
       "MH    0.005058\n",
       "CP    0.004263\n",
       "Name: PROPERTY TYPE, dtype: float64"
      ]
     },
     "execution_count": 54,
     "metadata": {},
     "output_type": "execute_result"
    }
   ],
   "source": [
    "fan_train['PROPERTY TYPE'].value_counts()/fan_train.shape[0]"
   ]
  },
  {
   "cell_type": "code",
   "execution_count": 55,
   "metadata": {},
   "outputs": [],
   "source": [
    "categories_comb= ['Others','MH and CP']"
   ]
  },
  {
   "cell_type": "code",
   "execution_count": 56,
   "metadata": {},
   "outputs": [],
   "source": [
    "for cat in categories_comb:\n",
    "    fan_train['PROPERTY TYPE'].replace({cat:'Others'},inplace=True)"
   ]
  },
  {
   "cell_type": "code",
   "execution_count": 57,
   "metadata": {},
   "outputs": [
    {
     "data": {
      "text/plain": [
       "SF    0.627480\n",
       "PU    0.270998\n",
       "CO    0.092202\n",
       "MH    0.005058\n",
       "CP    0.004263\n",
       "Name: PROPERTY TYPE, dtype: float64"
      ]
     },
     "execution_count": 57,
     "metadata": {},
     "output_type": "execute_result"
    }
   ],
   "source": [
    "fan_train['PROPERTY TYPE'].value_counts()/fan_train.shape[0]"
   ]
  },
  {
   "cell_type": "code",
   "execution_count": 58,
   "metadata": {},
   "outputs": [
    {
     "data": {
      "text/plain": [
       "CA    0.192246\n",
       "TX    0.078543\n",
       "FL    0.052981\n",
       "IL    0.042560\n",
       "CO    0.036982\n",
       "WA    0.031768\n",
       "MI    0.030991\n",
       "AZ    0.029312\n",
       "NY    0.028658\n",
       "PA    0.027125\n",
       "VA    0.026594\n",
       "NC    0.025489\n",
       "GA    0.025335\n",
       "NJ    0.025319\n",
       "MA    0.023610\n",
       "WI    0.023060\n",
       "OH    0.022122\n",
       "MN    0.021838\n",
       "MD    0.019299\n",
       "OR    0.018382\n",
       "UT    0.017090\n",
       "MO    0.016849\n",
       "TN    0.015829\n",
       "IN    0.015387\n",
       "SC    0.013359\n",
       "NV    0.012607\n",
       "IA    0.010322\n",
       "LA    0.010022\n",
       "AL    0.009832\n",
       "OK    0.008791\n",
       "CT    0.007813\n",
       "KY    0.007657\n",
       "ID    0.007196\n",
       "NE    0.006614\n",
       "KS    0.005567\n",
       "NM    0.005189\n",
       "AR    0.004957\n",
       "MS    0.004240\n",
       "HI    0.003903\n",
       "MT    0.003775\n",
       "NH    0.003598\n",
       "DE    0.003406\n",
       "SD    0.003206\n",
       "PR    0.002954\n",
       "DC    0.002801\n",
       "ND    0.002564\n",
       "WY    0.002457\n",
       "RI    0.002404\n",
       "ME    0.002104\n",
       "WV    0.002005\n",
       "AK    0.001799\n",
       "VT    0.001407\n",
       "VI    0.000062\n",
       "GU    0.000023\n",
       "Name: PROPERTY STATE, dtype: float64"
      ]
     },
     "execution_count": 58,
     "metadata": {},
     "output_type": "execute_result"
    }
   ],
   "source": [
    "frq=fan_train['PROPERTY STATE'].value_counts()/fan_train.shape[0]\n",
    "frq"
   ]
  },
  {
   "cell_type": "code",
   "execution_count": 59,
   "metadata": {},
   "outputs": [],
   "source": [
    "cate_prop_state=frq.loc[frq.values<.025].index\n",
    "\n",
    "for cat in cate_prop_state:\n",
    "    fan_train['PROPERTY STATE'].replace({cat:'other states'},inplace=True)"
   ]
  },
  {
   "cell_type": "code",
   "execution_count": 60,
   "metadata": {},
   "outputs": [
    {
     "data": {
      "text/plain": [
       "other states    0.346096\n",
       "CA              0.192246\n",
       "TX              0.078543\n",
       "FL              0.052981\n",
       "IL              0.042560\n",
       "CO              0.036982\n",
       "WA              0.031768\n",
       "MI              0.030991\n",
       "AZ              0.029312\n",
       "NY              0.028658\n",
       "PA              0.027125\n",
       "VA              0.026594\n",
       "NC              0.025489\n",
       "GA              0.025335\n",
       "NJ              0.025319\n",
       "Name: PROPERTY STATE, dtype: float64"
      ]
     },
     "execution_count": 60,
     "metadata": {},
     "output_type": "execute_result"
    }
   ],
   "source": [
    "fan_train['PROPERTY STATE'].value_counts()/fan_train.shape[0]"
   ]
  },
  {
   "cell_type": "markdown",
   "metadata": {},
   "source": [
    "Predictive Modelling using Decision Tree Model\n",
    "\n",
    "Data Preprocessing"
   ]
  },
  {
   "cell_type": "code",
   "execution_count": 61,
   "metadata": {},
   "outputs": [],
   "source": [
    "from sklearn.preprocessing import LabelEncoder"
   ]
  },
  {
   "cell_type": "code",
   "execution_count": 62,
   "metadata": {},
   "outputs": [
    {
     "data": {
      "text/plain": [
       "Index(['ORIGINATION CHANNEL', 'SELLER NAME', 'ORIGINATION DATE',\n",
       "       'FIRST PAYMENT DATE', 'FIRST TIME HOME BUYER INDICATOR', 'LOAN PURPOSE',\n",
       "       'PROPERTY TYPE', 'OCCUPANCY TYPE', 'PROPERTY STATE',\n",
       "       'RELOCATION MORTGAGE INDICATOR'],\n",
       "      dtype='object')"
      ]
     },
     "execution_count": 62,
     "metadata": {},
     "output_type": "execute_result"
    }
   ],
   "source": [
    "cate_v=fan_train.dtypes.loc[fan_train.dtypes=='object'].index\n",
    "cate_v"
   ]
  },
  {
   "cell_type": "code",
   "execution_count": 63,
   "metadata": {},
   "outputs": [],
   "source": [
    "le= LabelEncoder()\n",
    "for var in cate_v:\n",
    "    fan_train[var]=le.fit_transform(fan_train[var])"
   ]
  },
  {
   "cell_type": "code",
   "execution_count": 64,
   "metadata": {},
   "outputs": [
    {
     "data": {
      "text/plain": [
       "LOAN IDENTIFIER                           float64\n",
       "ORIGINATION CHANNEL                         int64\n",
       "SELLER NAME                                 int64\n",
       "ORIGINAL INTEREST RATE                    float64\n",
       "ORIGINAL UPB                                int64\n",
       "ORIGINAL LOAN TERM                          int64\n",
       "ORIGINATION DATE                            int64\n",
       "FIRST PAYMENT DATE                          int64\n",
       "ORIGINAL LOAN-TO-VALUE (LTV)                int64\n",
       "ORIGINAL COMBINED LOAN-TO-VALUE (CLTV)      int64\n",
       "ORIGINAL DEBT TO INCOME RATIO             float64\n",
       "BORROWER CREDIT SCORE AT ORIGINATION      float64\n",
       "FIRST TIME HOME BUYER INDICATOR             int64\n",
       "LOAN PURPOSE                                int64\n",
       "PROPERTY TYPE                               int64\n",
       "NUMBER OF UNITS                             int64\n",
       "OCCUPANCY TYPE                              int64\n",
       "PROPERTY STATE                              int64\n",
       "RELOCATION MORTGAGE INDICATOR               int64\n",
       "Default Status                              int64\n",
       "dtype: object"
      ]
     },
     "execution_count": 64,
     "metadata": {},
     "output_type": "execute_result"
    }
   ],
   "source": [
    "fan_train.dtypes"
   ]
  },
  {
   "cell_type": "code",
   "execution_count": 65,
   "metadata": {},
   "outputs": [],
   "source": [
    "from sklearn.tree import DecisionTreeClassifier"
   ]
  },
  {
   "cell_type": "code",
   "execution_count": 66,
   "metadata": {},
   "outputs": [
    {
     "name": "stdout",
     "output_type": "stream",
     "text": [
      "['ORIGINATION CHANNEL', 'SELLER NAME', 'ORIGINAL INTEREST RATE', 'ORIGINAL UPB', 'ORIGINAL LOAN TERM', 'ORIGINATION DATE', 'FIRST PAYMENT DATE', 'ORIGINAL LOAN-TO-VALUE (LTV)', 'ORIGINAL COMBINED LOAN-TO-VALUE (CLTV)', 'ORIGINAL DEBT TO INCOME RATIO', 'BORROWER CREDIT SCORE AT ORIGINATION', 'FIRST TIME HOME BUYER INDICATOR', 'LOAN PURPOSE', 'PROPERTY TYPE', 'NUMBER OF UNITS', 'OCCUPANCY TYPE', 'PROPERTY STATE', 'RELOCATION MORTGAGE INDICATOR']\n"
     ]
    }
   ],
   "source": [
    "dependent_variable='Default Status'\n",
    "independent_variable=[x for x in fan_train.columns if x not in ['LOAN IDENTIFIER',dependent_variable]]\n",
    "print (independent_variable)"
   ]
  },
  {
   "cell_type": "markdown",
   "metadata": {},
   "source": [
    "max_depth=18\n",
    "main_samples=24242\n",
    "max_features='sqrt'"
   ]
  },
  {
   "cell_type": "code",
   "execution_count": 79,
   "metadata": {},
   "outputs": [
    {
     "data": {
      "text/plain": [
       "DecisionTreeClassifier(class_weight=None, criterion='gini', max_depth=18,\n",
       "            max_features='sqrt', max_leaf_nodes=None,\n",
       "            min_impurity_decrease=0.0, min_impurity_split=None,\n",
       "            min_samples_leaf=24242, min_samples_split=2,\n",
       "            min_weight_fraction_leaf=0.0, presort=False, random_state=None,\n",
       "            splitter='best')"
      ]
     },
     "execution_count": 79,
     "metadata": {},
     "output_type": "execute_result"
    }
   ],
   "source": [
    "#initialize the algorithm\n",
    "model1= DecisionTreeClassifier(max_depth=18,min_samples_leaf=24242,max_features='sqrt')\n",
    "\n",
    "#fit the algorithm\n",
    "model1.fit(fan_train[independent_variable],fan_train[dependent_variable])"
   ]
  },
  {
   "cell_type": "markdown",
   "metadata": {},
   "source": [
    "MAKE PREDICTION"
   ]
  },
  {
   "cell_type": "code",
   "execution_count": 80,
   "metadata": {},
   "outputs": [],
   "source": [
    "predict_fantrain=model1.predict(fan_train[independent_variable])"
   ]
  },
  {
   "cell_type": "markdown",
   "metadata": {},
   "source": [
    "Analyse Result\n",
    "\n",
    "Evaluate fan_train accuracy using the confusion matrix"
   ]
  },
  {
   "cell_type": "code",
   "execution_count": 81,
   "metadata": {},
   "outputs": [],
   "source": [
    "from sklearn.metrics import accuracy_score"
   ]
  },
  {
   "cell_type": "code",
   "execution_count": 82,
   "metadata": {},
   "outputs": [],
   "source": [
    "#Determine the train error\n",
    "acc_fan_train= accuracy_score(fan_train[dependent_variable],predict_fantrain)"
   ]
  },
  {
   "cell_type": "code",
   "execution_count": 83,
   "metadata": {},
   "outputs": [
    {
     "name": "stdout",
     "output_type": "stream",
     "text": [
      "Train Accuracy: 0.992540\n"
     ]
    }
   ],
   "source": [
    "print ('Train Accuracy: %f'%acc_fan_train)"
   ]
  },
  {
   "cell_type": "code",
   "execution_count": null,
   "metadata": {},
   "outputs": [],
   "source": []
  }
 ],
 "metadata": {
  "kernelspec": {
   "display_name": "Python 3",
   "language": "python",
   "name": "python3"
  },
  "language_info": {
   "codemirror_mode": {
    "name": "ipython",
    "version": 3
   },
   "file_extension": ".py",
   "mimetype": "text/x-python",
   "name": "python",
   "nbconvert_exporter": "python",
   "pygments_lexer": "ipython3",
   "version": "3.7.0"
  }
 },
 "nbformat": 4,
 "nbformat_minor": 2
}
